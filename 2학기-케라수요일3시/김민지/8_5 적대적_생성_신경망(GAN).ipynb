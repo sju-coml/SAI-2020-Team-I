{
  "nbformat": 4,
  "nbformat_minor": 0,
  "metadata": {
    "colab": {
      "name": "8_5 적대적 생성 신경망(GAN) .ipynb",
      "provenance": [],
      "mount_file_id": "1WllUWqYXxGGAnJiW5ogR4VAfiWJyU1Lo",
      "authorship_tag": "ABX9TyNhr0z3THuKK5NXG3Lx7eCF",
      "include_colab_link": true
    },
    "kernelspec": {
      "name": "python3",
      "display_name": "Python 3"
    },
    "accelerator": "GPU"
  },
  "cells": [
    {
      "cell_type": "markdown",
      "metadata": {
        "id": "view-in-github",
        "colab_type": "text"
      },
      "source": [
        "<a href=\"https://colab.research.google.com/github/minnji88/DeepLearning2020/blob/master/8_5%20%EC%A0%81%EB%8C%80%EC%A0%81_%EC%83%9D%EC%84%B1_%EC%8B%A0%EA%B2%BD%EB%A7%9D(GAN).ipynb\" target=\"_parent\"><img src=\"https://colab.research.google.com/assets/colab-badge.svg\" alt=\"Open In Colab\"/></a>"
      ]
    },
    {
      "cell_type": "markdown",
      "metadata": {
        "id": "n91mE4ERtGsS"
      },
      "source": [
        "GAN은 생성된 이미지가 실제 이미지와 통계적으로 거의 구분이 되지 않도록 강제하여 아주 실제 같은 합성 이미지를 생성합니다. GAN은 2개의 네트워크로 구성됩니다.\n",
        "\n",
        "- 생성자 네트워크(generator network) : 랜덤 벡터를 입력으로 받아 이를 합성된 이미지로 디코딩합니다.\n",
        "- 판별자 네트워크(discriminator network) : 이미지를 입력으로 받아 훈련 세트에서 온 이미지인지, 생성자 네트워크가 만든 이미지 인지 판별합니다.\n",
        "\n",
        "생성자 네트워크는 판별자 네트워크를 속이도록 훈련합니다. 훈련이 계속될수록 점점 더 실제와 같은 이미지를 생성하게 됩니다. 실제 이미지와 구분할 수 없는 인공적인 이미지를 만들어 판별자 네트워크가 두 이미지를 동일하게 보도록 만듭니다. 한편 판별자 네트워크는 생ㅅ겅된 이미지가 실제인지 판별하는 기준을 설정하면서 생성자의 능력 향상에 적응해 갑니다. 훈련이 끝나면 생성자는 입력 공간에 있는 어떤 포인트를 그럴듯한 이미지로 변환합니다. VAE와 달리 이 잠재 공간은 의미 있는 구조를 보장하지 않습니다. 특히 이 공간은 연속적이지 않습니다.\n"
      ]
    },
    {
      "cell_type": "markdown",
      "metadata": {
        "id": "aja7SzJWtRaI"
      },
      "source": [
        "##  생성자\n",
        "먼저 벡터(훈련하는 동안 잠재 공간에서 무작위로 샘플링됩니다)를 후보 이미지로 변환하는 generator 모델을 만들어 보죠. "
      ]
    },
    {
      "cell_type": "code",
      "metadata": {
        "colab": {
          "base_uri": "https://localhost:8080/"
        },
        "id": "ifkIhHvus3vh",
        "outputId": "513ae583-321c-446d-9182-8cdb1abaf1f0"
      },
      "source": [
        "# 코드 8-29 GAN 생성자 네트워크\n",
        "import keras\n",
        "from keras import layers\n",
        "import numpy as np\n",
        "\n",
        "latent_dim = 32\n",
        "height = 32\n",
        "width = 32\n",
        "channels = 3\n",
        "\n",
        "generator_input = keras.Input(shape=(latent_dim,))\n",
        "\n",
        "# 입력을 16 × 16 크기의 128개 채널을 가진 특성 맵으로 변환합니다\n",
        "x = layers.Dense(128 * 16 * 16)(generator_input)\n",
        "x = layers.LeakyReLU()(x)\n",
        "x = layers.Reshape((16, 16, 128))(x)\n",
        "\n",
        "# 합성곱 층을 추가합니다\n",
        "x = layers.Conv2D(256, 5, padding='same')(x)\n",
        "x = layers.LeakyReLU()(x)\n",
        "\n",
        "# 32 × 32 크기로 업샘플링합니다\n",
        "x = layers.Conv2DTranspose(256, 4, strides=2, padding='same')(x)\n",
        "x = layers.LeakyReLU()(x)\n",
        "\n",
        "# 합성곱 층을 더 추가합니다\n",
        "x = layers.Conv2D(256, 5, padding='same')(x)\n",
        "x = layers.LeakyReLU()(x)\n",
        "x = layers.Conv2D(256, 5, padding='same')(x)\n",
        "x = layers.LeakyReLU()(x)\n",
        "\n",
        "# 32 × 32 크기의 1개 채널을 가진 특성 맵을 생성합니다\n",
        "x = layers.Conv2D(channels, 7, activation='tanh', padding='same')(x)\n",
        "generator = keras.models.Model(generator_input, x)\n",
        "generator.summary()"
      ],
      "execution_count": 1,
      "outputs": [
        {
          "output_type": "stream",
          "text": [
            "Model: \"model\"\n",
            "_________________________________________________________________\n",
            "Layer (type)                 Output Shape              Param #   \n",
            "=================================================================\n",
            "input_1 (InputLayer)         [(None, 32)]              0         \n",
            "_________________________________________________________________\n",
            "dense (Dense)                (None, 32768)             1081344   \n",
            "_________________________________________________________________\n",
            "leaky_re_lu (LeakyReLU)      (None, 32768)             0         \n",
            "_________________________________________________________________\n",
            "reshape (Reshape)            (None, 16, 16, 128)       0         \n",
            "_________________________________________________________________\n",
            "conv2d (Conv2D)              (None, 16, 16, 256)       819456    \n",
            "_________________________________________________________________\n",
            "leaky_re_lu_1 (LeakyReLU)    (None, 16, 16, 256)       0         \n",
            "_________________________________________________________________\n",
            "conv2d_transpose (Conv2DTran (None, 32, 32, 256)       1048832   \n",
            "_________________________________________________________________\n",
            "leaky_re_lu_2 (LeakyReLU)    (None, 32, 32, 256)       0         \n",
            "_________________________________________________________________\n",
            "conv2d_1 (Conv2D)            (None, 32, 32, 256)       1638656   \n",
            "_________________________________________________________________\n",
            "leaky_re_lu_3 (LeakyReLU)    (None, 32, 32, 256)       0         \n",
            "_________________________________________________________________\n",
            "conv2d_2 (Conv2D)            (None, 32, 32, 256)       1638656   \n",
            "_________________________________________________________________\n",
            "leaky_re_lu_4 (LeakyReLU)    (None, 32, 32, 256)       0         \n",
            "_________________________________________________________________\n",
            "conv2d_3 (Conv2D)            (None, 32, 32, 3)         37635     \n",
            "=================================================================\n",
            "Total params: 6,264,579\n",
            "Trainable params: 6,264,579\n",
            "Non-trainable params: 0\n",
            "_________________________________________________________________\n"
          ],
          "name": "stdout"
        }
      ]
    },
    {
      "cell_type": "markdown",
      "metadata": {
        "id": "yECwCtBwthmz"
      },
      "source": [
        "## 판별자\n",
        "\n",
        "후보 이미지(진짜 혹은 가짜)를 입력으로 받고 두 개의 클래스로 분류하는 discriminator 모델을 만들겠습니다. 이 클래스는 ‘생성된 이미지’ 또는 ‘훈련 세트에서 온 진짜 이미지’입니다."
      ]
    },
    {
      "cell_type": "code",
      "metadata": {
        "colab": {
          "base_uri": "https://localhost:8080/"
        },
        "id": "QvExxcG8tEwV",
        "outputId": "59d597f5-1aa0-47ec-8146-f47061ef5be2"
      },
      "source": [
        "# 코드 8-30 GAN 판별자 네트워크\n",
        "discriminator_input = layers.Input(shape=(height, width, channels))\n",
        "x = layers.Conv2D(128, 3)(discriminator_input)\n",
        "x = layers.LeakyReLU()(x)\n",
        "x = layers.Conv2D(128, 4, strides=2)(x)\n",
        "x = layers.LeakyReLU()(x)\n",
        "x = layers.Conv2D(128, 4, strides=2)(x)\n",
        "x = layers.LeakyReLU()(x)\n",
        "x = layers.Conv2D(128, 4, strides=2)(x)\n",
        "x = layers.LeakyReLU()(x)\n",
        "x = layers.Flatten()(x)\n",
        "\n",
        "# 드롭아웃 층을 넣는 것이 아주 중요합니다!\n",
        "x = layers.Dropout(0.4)(x)\n",
        "\n",
        "# 분류 층\n",
        "x = layers.Dense(1, activation='sigmoid')(x)\n",
        "\n",
        "discriminator = keras.models.Model(discriminator_input, x)\n",
        "discriminator.summary()\n",
        "\n",
        "# 옵티마이저에서 (값을 지정하여) 그래디언트 클리핑을 사용합니다\n",
        "# 안정된 훈련을 위해서 학습률 감쇠를 사용합니다\n",
        "discriminator_optimizer = keras.optimizers.RMSprop(lr=0.0008, clipvalue=1.0, decay=1e-8)\n",
        "discriminator.compile(optimizer=discriminator_optimizer, loss='binary_crossentropy')"
      ],
      "execution_count": 2,
      "outputs": [
        {
          "output_type": "stream",
          "text": [
            "Model: \"model_1\"\n",
            "_________________________________________________________________\n",
            "Layer (type)                 Output Shape              Param #   \n",
            "=================================================================\n",
            "input_2 (InputLayer)         [(None, 32, 32, 3)]       0         \n",
            "_________________________________________________________________\n",
            "conv2d_4 (Conv2D)            (None, 30, 30, 128)       3584      \n",
            "_________________________________________________________________\n",
            "leaky_re_lu_5 (LeakyReLU)    (None, 30, 30, 128)       0         \n",
            "_________________________________________________________________\n",
            "conv2d_5 (Conv2D)            (None, 14, 14, 128)       262272    \n",
            "_________________________________________________________________\n",
            "leaky_re_lu_6 (LeakyReLU)    (None, 14, 14, 128)       0         \n",
            "_________________________________________________________________\n",
            "conv2d_6 (Conv2D)            (None, 6, 6, 128)         262272    \n",
            "_________________________________________________________________\n",
            "leaky_re_lu_7 (LeakyReLU)    (None, 6, 6, 128)         0         \n",
            "_________________________________________________________________\n",
            "conv2d_7 (Conv2D)            (None, 2, 2, 128)         262272    \n",
            "_________________________________________________________________\n",
            "leaky_re_lu_8 (LeakyReLU)    (None, 2, 2, 128)         0         \n",
            "_________________________________________________________________\n",
            "flatten (Flatten)            (None, 512)               0         \n",
            "_________________________________________________________________\n",
            "dropout (Dropout)            (None, 512)               0         \n",
            "_________________________________________________________________\n",
            "dense_1 (Dense)              (None, 1)                 513       \n",
            "=================================================================\n",
            "Total params: 790,913\n",
            "Trainable params: 790,913\n",
            "Non-trainable params: 0\n",
            "_________________________________________________________________\n"
          ],
          "name": "stdout"
        }
      ]
    },
    {
      "cell_type": "markdown",
      "metadata": {
        "id": "QAKmJRNittkl"
      },
      "source": [
        "## 적대적 네트워크\n",
        "\n",
        "마지막으로 생성자와 판별자를 연결하여 GAN을 설정합니다. 훈련할 때 생성자가 판별자를 속이는 능력이 커지도록 학습합니다. 이 모델은 잠재 공간의 포인트를 “진짜” 또는 “가짜”의 분류 결정으로 변환합니다. 훈련에 사용되는 타깃 레이블은 항상 ‘진짜 이미지’입니다. gan을 훈련하는 것은 discriminator가 가짜 이미지를 보았을 때 진짜라고 예측하도록 만들기 위해 generator의 가중치를 업데이트하는 것입니다. 훈련하는 동안 판별자를 동결(학습되지 않도록)하는 것이 아주 중요합니다. gan을 훈련할 때 가중치가 업데이트되지 않습니다. 판별자의 가중치가 훈련하는 동안 업데이트되면 판별자는 항상 “진짜”를 예측하도록 훈련됩니다."
      ]
    },
    {
      "cell_type": "code",
      "metadata": {
        "id": "XV316ExHtrPb"
      },
      "source": [
        "# 판별자의 가중치가 훈련되지 않도록 설정합니다(gan 모델에만 적용됩니다)\n",
        "discriminator.trainable = False\n",
        "\n",
        "gan_input = keras.Input(shape=(latent_dim,))\n",
        "gan_output = discriminator(generator(gan_input))\n",
        "gan = keras.models.Model(gan_input, gan_output)\n",
        "\n",
        "gan_optimizer = keras.optimizers.RMSprop(lr=0.0004, clipvalue=1.0, decay=1e-8)\n",
        "gan.compile(optimizer=gan_optimizer, loss='binary_crossentropy')"
      ],
      "execution_count": 3,
      "outputs": []
    },
    {
      "cell_type": "markdown",
      "metadata": {
        "id": "TnRsnkMNuAn0"
      },
      "source": [
        "##  DCGAN 훈련 방법\n",
        "\n",
        "1. 잠재 공간에서 무작위로 포인트를 뽑습니다(랜덤 노이즈).\n",
        "2. 이 랜덤 노이즈를 사용해 generator에서 이미지를 생성합니다.\n",
        "3. 생성된 이미지와 진짜 이미지를 섞습니다.\n",
        "4. 진짜와 가짜가 섞인 이미지와 이에 대응하는 타깃을 사용해 discriminator를 훈련합니다. 타깃은 “진짜”(실제 이미지일 경우) 또는 “가짜”(생성된 이미지일 경우)입니다.\n",
        "5. 잠재 공간에서 무작위로 새로운 포인트를 뽑습니다.\n",
        "6. 이 랜덤 벡터를 사용해 gan을 훈련합니다. 모든 타깃은 “진짜”로 설정합니다. 판별자가 생성된 이미지를 모두 “진짜 이미지”라고 예측하도록 생성자의 가중치를 업데이트합니다(gan 안에서 판별자는 동결되기 때문에 생성자만 업데이트합니다). 결국 생성자는 판별자를 속이도록 훈련합니다."
      ]
    },
    {
      "cell_type": "code",
      "metadata": {
        "colab": {
          "base_uri": "https://localhost:8080/"
        },
        "id": "LdPxdOINtwIn",
        "outputId": "a345176e-0cdf-4538-9614-e63beaae44f8"
      },
      "source": [
        "import os\n",
        "from keras.preprocessing import image\n",
        "\n",
        "# CIFAR10 데이터를 로드합니다\n",
        "(x_train, y_train), (_, _) = keras.datasets.cifar10.load_data()\n",
        "\n",
        "# 개구리 이미지를 선택합니다(클래스 6)\n",
        "x_train = x_train[y_train.flatten() == 6]\n",
        "\n",
        "# 데이터를 정규화합니다\n",
        "x_train = x_train.reshape(\n",
        "    (x_train.shape[0],) + (height, width, channels)).astype('float32') / 255.\n",
        "\n",
        "iterations = 10000\n",
        "batch_size = 20\n",
        "save_dir = './gan_images/'\n",
        "if not os.path.exists(save_dir):\n",
        "    os.mkdir(save_dir)\n",
        "\n",
        "# 훈련 반복 시작\n",
        "start = 0\n",
        "for step in range(iterations):\n",
        "    # 잠재 공간에서 무작위로 포인트를 샘플링합니다\n",
        "    random_latent_vectors = np.random.normal(size=(batch_size, latent_dim))\n",
        "\n",
        "    # 가짜 이미지를 디코딩합니다\n",
        "    generated_images = generator.predict(random_latent_vectors)\n",
        "\n",
        "    # 진짜 이미지와 연결합니다\n",
        "    stop = start + batch_size\n",
        "    real_images = x_train[start: stop]\n",
        "    combined_images = np.concatenate([generated_images, real_images])\n",
        "\n",
        "    # 진짜와 가짜 이미지를 구분하여 레이블을 합칩니다\n",
        "    labels = np.concatenate([np.ones((batch_size, 1)),\n",
        "                             np.zeros((batch_size, 1))])\n",
        "    # 레이블에 랜덤 노이즈를 추가합니다. 아주 중요합니다!\n",
        "    labels += 0.05 * np.random.random(labels.shape)\n",
        "\n",
        "    # discriminator를 훈련합니다\n",
        "    d_loss = discriminator.train_on_batch(combined_images, labels)\n",
        "\n",
        "    # 잠재 공간에서 무작위로 포인트를 샘플링합니다\n",
        "    random_latent_vectors = np.random.normal(size=(batch_size, latent_dim))\n",
        "\n",
        "    # 모두 “진짜 이미지\"라고 레이블을 만듭니다\n",
        "    misleading_targets = np.zeros((batch_size, 1))\n",
        "\n",
        "    # generator를 훈련합니다(gan 모델에서 discriminator의 가중치는 동결됩니다)\n",
        "    a_loss = gan.train_on_batch(random_latent_vectors, misleading_targets)\n",
        "\n",
        "    start += batch_size\n",
        "    if start > len(x_train) - batch_size:\n",
        "      start = 0\n",
        "\n",
        "    # 중간 중간 저장하고 그래프를 그립니다\n",
        "    if step % 100 == 0:\n",
        "        # 모델 가중치를 저장합니다\n",
        "        gan.save_weights('gan.h5')\n",
        "\n",
        "        # 측정 지표를 출력합니다\n",
        "        print('스텝 %s에서 판별자 손실: %s' % (step, d_loss))\n",
        "        print('스텝 %s에서 적대적 손실: %s' % (step, a_loss))\n",
        "\n",
        "        # 생성된 이미지 하나를 저장합니다\n",
        "        img = image.array_to_img(generated_images[0] * 255., scale=False)\n",
        "        img.save(os.path.join(save_dir, 'generated_frog' + str(step) + '.png'))\n",
        "\n",
        "        # 비교를 위해 진짜 이미지 하나를 저장합니다\n",
        "        img = image.array_to_img(real_images[0] * 255., scale=False)\n",
        "        img.save(os.path.join(save_dir, 'real_frog' + str(step) + '.png'))"
      ],
      "execution_count": 4,
      "outputs": [
        {
          "output_type": "stream",
          "text": [
            "Downloading data from https://www.cs.toronto.edu/~kriz/cifar-10-python.tar.gz\n",
            "170500096/170498071 [==============================] - 2s 0us/step\n",
            "스텝 0에서 판별자 손실: 0.69538813829422\n",
            "스텝 0에서 적대적 손실: 0.6848281621932983\n",
            "스텝 100에서 판별자 손실: 0.7358710169792175\n",
            "스텝 100에서 적대적 손실: 0.8367697596549988\n",
            "스텝 200에서 판별자 손실: 0.7032512426376343\n",
            "스텝 200에서 적대적 손실: 0.7715943455696106\n",
            "스텝 300에서 판별자 손실: 0.7030413150787354\n",
            "스텝 300에서 적대적 손실: 0.7292850613594055\n",
            "스텝 400에서 판별자 손실: 0.7039502859115601\n",
            "스텝 400에서 적대적 손실: 0.7493795156478882\n",
            "스텝 500에서 판별자 손실: 0.699881374835968\n",
            "스텝 500에서 적대적 손실: 0.776049017906189\n",
            "스텝 600에서 판별자 손실: 0.6910111308097839\n",
            "스텝 600에서 적대적 손실: 0.7703516483306885\n",
            "스텝 700에서 판별자 손실: 0.6961661577224731\n",
            "스텝 700에서 적대적 손실: 0.7750411629676819\n",
            "스텝 800에서 판별자 손실: 0.6884691119194031\n",
            "스텝 800에서 적대적 손실: 0.7532947659492493\n",
            "스텝 900에서 판별자 손실: 0.6823996305465698\n",
            "스텝 900에서 적대적 손실: 0.8011649250984192\n",
            "스텝 1000에서 판별자 손실: 0.6929710507392883\n",
            "스텝 1000에서 적대적 손실: 0.7559084892272949\n",
            "스텝 1100에서 판별자 손실: 0.6865993142127991\n",
            "스텝 1100에서 적대적 손실: 0.7632786631584167\n",
            "스텝 1200에서 판별자 손실: 0.708114504814148\n",
            "스텝 1200에서 적대적 손실: 0.7437888979911804\n",
            "스텝 1300에서 판별자 손실: 0.6683639883995056\n",
            "스텝 1300에서 적대적 손실: 0.7318258881568909\n",
            "스텝 1400에서 판별자 손실: 0.7058140635490417\n",
            "스텝 1400에서 적대적 손실: 0.7736846208572388\n",
            "스텝 1500에서 판별자 손실: 0.7019535303115845\n",
            "스텝 1500에서 적대적 손실: 0.7658135890960693\n",
            "스텝 1600에서 판별자 손실: 0.6978738903999329\n",
            "스텝 1600에서 적대적 손실: 0.7757024765014648\n",
            "스텝 1700에서 판별자 손실: 0.6993471384048462\n",
            "스텝 1700에서 적대적 손실: 0.7170330882072449\n",
            "스텝 1800에서 판별자 손실: 1.1958712339401245\n",
            "스텝 1800에서 적대적 손실: 0.7573428153991699\n",
            "스텝 1900에서 판별자 손실: 0.7012858390808105\n",
            "스텝 1900에서 적대적 손실: 0.7243804931640625\n",
            "스텝 2000에서 판별자 손실: 0.6978791356086731\n",
            "스텝 2000에서 적대적 손실: 0.7552059888839722\n",
            "스텝 2100에서 판별자 손실: 0.6921330094337463\n",
            "스텝 2100에서 적대적 손실: 0.709460437297821\n",
            "스텝 2200에서 판별자 손실: 0.6962534189224243\n",
            "스텝 2200에서 적대적 손실: 0.7353153824806213\n",
            "스텝 2300에서 판별자 손실: 0.7045536041259766\n",
            "스텝 2300에서 적대적 손실: 0.7644382119178772\n",
            "스텝 2400에서 판별자 손실: 0.6983863115310669\n",
            "스텝 2400에서 적대적 손실: 0.7737773656845093\n",
            "스텝 2500에서 판별자 손실: 0.6949708461761475\n",
            "스텝 2500에서 적대적 손실: 0.7128380537033081\n",
            "스텝 2600에서 판별자 손실: 0.6991665363311768\n",
            "스텝 2600에서 적대적 손실: 0.7470870018005371\n",
            "스텝 2700에서 판별자 손실: 0.697402834892273\n",
            "스텝 2700에서 적대적 손실: 0.7572148442268372\n",
            "스텝 2800에서 판별자 손실: 0.6855615377426147\n",
            "스텝 2800에서 적대적 손실: 0.7129201889038086\n",
            "스텝 2900에서 판별자 손실: 0.6859156489372253\n",
            "스텝 2900에서 적대적 손실: 0.7608585953712463\n",
            "스텝 3000에서 판별자 손실: 0.6958228945732117\n",
            "스텝 3000에서 적대적 손실: 0.736821174621582\n",
            "스텝 3100에서 판별자 손실: 0.6902779340744019\n",
            "스텝 3100에서 적대적 손실: 0.7468621134757996\n",
            "스텝 3200에서 판별자 손실: 0.6966046094894409\n",
            "스텝 3200에서 적대적 손실: 0.7242944836616516\n",
            "스텝 3300에서 판별자 손실: 0.7036702632904053\n",
            "스텝 3300에서 적대적 손실: 0.7434565424919128\n",
            "스텝 3400에서 판별자 손실: 0.6871339678764343\n",
            "스텝 3400에서 적대적 손실: 0.7673912644386292\n",
            "스텝 3500에서 판별자 손실: 0.6969270706176758\n",
            "스텝 3500에서 적대적 손실: 0.7394984364509583\n",
            "스텝 3600에서 판별자 손실: 0.699385941028595\n",
            "스텝 3600에서 적대적 손실: 0.7528585195541382\n",
            "스텝 3700에서 판별자 손실: 0.6949214935302734\n",
            "스텝 3700에서 적대적 손실: 0.7524327039718628\n",
            "스텝 3800에서 판별자 손실: 0.6967415809631348\n",
            "스텝 3800에서 적대적 손실: 0.729152500629425\n",
            "스텝 3900에서 판별자 손실: 0.6939535140991211\n",
            "스텝 3900에서 적대적 손실: 0.7546876668930054\n",
            "스텝 4000에서 판별자 손실: 0.6895865201950073\n",
            "스텝 4000에서 적대적 손실: 0.7543627023696899\n",
            "스텝 4100에서 판별자 손실: 0.716758131980896\n",
            "스텝 4100에서 적대적 손실: 0.763319194316864\n",
            "스텝 4200에서 판별자 손실: 0.6953750848770142\n",
            "스텝 4200에서 적대적 손실: 0.7651882171630859\n",
            "스텝 4300에서 판별자 손실: 0.6823930144309998\n",
            "스텝 4300에서 적대적 손실: 0.7988104224205017\n",
            "스텝 4400에서 판별자 손실: 0.6918871998786926\n",
            "스텝 4400에서 적대적 손실: 0.7660367488861084\n",
            "스텝 4500에서 판별자 손실: 0.6784828901290894\n",
            "스텝 4500에서 적대적 손실: 0.8901503682136536\n",
            "스텝 4600에서 판별자 손실: 0.6811029314994812\n",
            "스텝 4600에서 적대적 손실: 0.8508960008621216\n",
            "스텝 4700에서 판별자 손실: 0.6987150311470032\n",
            "스텝 4700에서 적대적 손실: 0.7649695873260498\n",
            "스텝 4800에서 판별자 손실: 0.7016494870185852\n",
            "스텝 4800에서 적대적 손실: 0.804913341999054\n",
            "스텝 4900에서 판별자 손실: 0.6943074464797974\n",
            "스텝 4900에서 적대적 손실: 0.7610287070274353\n",
            "스텝 5000에서 판별자 손실: 0.68329918384552\n",
            "스텝 5000에서 적대적 손실: 0.7795578241348267\n",
            "스텝 5100에서 판별자 손실: 0.6882693767547607\n",
            "스텝 5100에서 적대적 손실: 0.8197766542434692\n",
            "스텝 5200에서 판별자 손실: 0.6829957365989685\n",
            "스텝 5200에서 적대적 손실: 0.6831485033035278\n",
            "스텝 5300에서 판별자 손실: 0.6810100674629211\n",
            "스텝 5300에서 적대적 손실: 0.6760351657867432\n",
            "스텝 5400에서 판별자 손실: 0.6864665150642395\n",
            "스텝 5400에서 적대적 손실: 0.7998980283737183\n",
            "스텝 5500에서 판별자 손실: 0.7011197209358215\n",
            "스텝 5500에서 적대적 손실: 0.7951496243476868\n",
            "스텝 5600에서 판별자 손실: 0.6991528272628784\n",
            "스텝 5600에서 적대적 손실: 0.6845908761024475\n",
            "스텝 5700에서 판별자 손실: 0.6868966817855835\n",
            "스텝 5700에서 적대적 손실: 0.7894338369369507\n",
            "스텝 5800에서 판별자 손실: 0.6889289617538452\n",
            "스텝 5800에서 적대적 손실: 0.7406129240989685\n",
            "스텝 5900에서 판별자 손실: 0.7105074524879456\n",
            "스텝 5900에서 적대적 손실: 0.780683159828186\n",
            "스텝 6000에서 판별자 손실: 0.6881788372993469\n",
            "스텝 6000에서 적대적 손실: 0.7730122804641724\n",
            "스텝 6100에서 판별자 손실: 0.6850332021713257\n",
            "스텝 6100에서 적대적 손실: 0.6862552165985107\n",
            "스텝 6200에서 판별자 손실: 0.6998974084854126\n",
            "스텝 6200에서 적대적 손실: 0.7891312837600708\n",
            "스텝 6300에서 판별자 손실: 0.7187434434890747\n",
            "스텝 6300에서 적대적 손실: 0.7354531288146973\n",
            "스텝 6400에서 판별자 손실: 0.6802172064781189\n",
            "스텝 6400에서 적대적 손실: 0.7760804295539856\n",
            "스텝 6500에서 판별자 손실: 0.699752926826477\n",
            "스텝 6500에서 적대적 손실: 0.7752512693405151\n",
            "스텝 6600에서 판별자 손실: 0.6889282464981079\n",
            "스텝 6600에서 적대적 손실: 0.7708624005317688\n",
            "스텝 6700에서 판별자 손실: 0.6745511293411255\n",
            "스텝 6700에서 적대적 손실: 0.7383996844291687\n",
            "스텝 6800에서 판별자 손실: 0.6653878092765808\n",
            "스텝 6800에서 적대적 손실: 0.7926997542381287\n",
            "스텝 6900에서 판별자 손실: 0.6645861864089966\n",
            "스텝 6900에서 적대적 손실: 0.6815272569656372\n",
            "스텝 7000에서 판별자 손실: 0.652661919593811\n",
            "스텝 7000에서 적대적 손실: 0.7523554563522339\n",
            "스텝 7100에서 판별자 손실: 0.7152564525604248\n",
            "스텝 7100에서 적대적 손실: 0.789497971534729\n",
            "스텝 7200에서 판별자 손실: 0.6482135057449341\n",
            "스텝 7200에서 적대적 손실: 0.7249394655227661\n",
            "스텝 7300에서 판별자 손실: 0.6840680241584778\n",
            "스텝 7300에서 적대적 손실: 0.715502142906189\n",
            "스텝 7400에서 판별자 손실: 0.6979718804359436\n",
            "스텝 7400에서 적대적 손실: 0.8259965777397156\n",
            "스텝 7500에서 판별자 손실: 0.6989766359329224\n",
            "스텝 7500에서 적대적 손실: 0.9367234110832214\n",
            "스텝 7600에서 판별자 손실: 0.6189857721328735\n",
            "스텝 7600에서 적대적 손실: 0.8192976713180542\n",
            "스텝 7700에서 판별자 손실: 0.6773942112922668\n",
            "스텝 7700에서 적대적 손실: 0.7081506848335266\n",
            "스텝 7800에서 판별자 손실: 0.6758832335472107\n",
            "스텝 7800에서 적대적 손실: 0.830319881439209\n",
            "스텝 7900에서 판별자 손실: 0.7577074766159058\n",
            "스텝 7900에서 적대적 손실: 1.2145051956176758\n",
            "스텝 8000에서 판별자 손실: 0.6758858561515808\n",
            "스텝 8000에서 적대적 손실: 0.8238016366958618\n",
            "스텝 8100에서 판별자 손실: 0.650004506111145\n",
            "스텝 8100에서 적대적 손실: 0.9652218818664551\n",
            "스텝 8200에서 판별자 손실: 0.6822000741958618\n",
            "스텝 8200에서 적대적 손실: 0.7953800559043884\n",
            "스텝 8300에서 판별자 손실: 0.826910674571991\n",
            "스텝 8300에서 적대적 손실: 1.0171791315078735\n",
            "스텝 8400에서 판별자 손실: 0.6441327333450317\n",
            "스텝 8400에서 적대적 손실: 0.8631189465522766\n",
            "스텝 8500에서 판별자 손실: 0.6893335580825806\n",
            "스텝 8500에서 적대적 손실: 0.7638934254646301\n",
            "스텝 8600에서 판별자 손실: 0.6778756976127625\n",
            "스텝 8600에서 적대적 손실: 0.8664222955703735\n",
            "스텝 8700에서 판별자 손실: 0.6579369306564331\n",
            "스텝 8700에서 적대적 손실: 0.8000637292861938\n",
            "스텝 8800에서 판별자 손실: 0.676922619342804\n",
            "스텝 8800에서 적대적 손실: 0.8636668920516968\n",
            "스텝 8900에서 판별자 손실: 0.6890230774879456\n",
            "스텝 8900에서 적대적 손실: 0.827292799949646\n",
            "스텝 9000에서 판별자 손실: 0.6818503141403198\n",
            "스텝 9000에서 적대적 손실: 0.8236643671989441\n",
            "스텝 9100에서 판별자 손실: 0.6398620009422302\n",
            "스텝 9100에서 적대적 손실: 0.7851647138595581\n",
            "스텝 9200에서 판별자 손실: 0.6717420816421509\n",
            "스텝 9200에서 적대적 손실: 0.8561103940010071\n",
            "스텝 9300에서 판별자 손실: 0.6844998598098755\n",
            "스텝 9300에서 적대적 손실: 0.7531527280807495\n",
            "스텝 9400에서 판별자 손실: 0.6579234004020691\n",
            "스텝 9400에서 적대적 손실: 0.7431438565254211\n",
            "스텝 9500에서 판별자 손실: 0.7178976535797119\n",
            "스텝 9500에서 적대적 손실: 0.7164174318313599\n",
            "스텝 9600에서 판별자 손실: 0.696465015411377\n",
            "스텝 9600에서 적대적 손실: 0.8158746957778931\n",
            "스텝 9700에서 판별자 손실: 0.6802536249160767\n",
            "스텝 9700에서 적대적 손실: 0.8146570324897766\n",
            "스텝 9800에서 판별자 손실: 0.6605350375175476\n",
            "스텝 9800에서 적대적 손실: 0.8156434893608093\n",
            "스텝 9900에서 판별자 손실: 0.7257218360900879\n",
            "스텝 9900에서 적대적 손실: 1.0963854789733887\n"
          ],
          "name": "stdout"
        }
      ]
    },
    {
      "cell_type": "code",
      "metadata": {
        "id": "lf5Eb0MIwNbe"
      },
      "source": [
        "import matplotlib.pyplot as plt"
      ],
      "execution_count": 5,
      "outputs": []
    },
    {
      "cell_type": "code",
      "metadata": {
        "colab": {
          "base_uri": "https://localhost:8080/",
          "height": 1000
        },
        "id": "x522TkWQwP57",
        "outputId": "ff1e4f97-1674-4a17-a53a-9c8d5d6c871a"
      },
      "source": [
        "# 잠재 공간에서 랜덤한 포인트를 샘플링합니다\n",
        "random_latent_vectors = np.random.normal(size=(10, latent_dim))\n",
        "\n",
        "# 가짜 이미지로 디코딩합니다\n",
        "generated_images = generator.predict(random_latent_vectors)\n",
        "\n",
        "for i in range(generated_images.shape[0]):\n",
        "    img = image.array_to_img(generated_images[i] * 255., scale=False)\n",
        "    plt.figure()\n",
        "    plt.imshow(img)\n",
        "    \n",
        "plt.show()"
      ],
      "execution_count": 6,
      "outputs": [
        {
          "output_type": "display_data",
          "data": {
            "image/png": "[encoded data removed]",
            "text/plain": [
              "<Figure size 432x288 with 1 Axes>"
            ]
          },
          "metadata": {
            "tags": [],
            "needs_background": "light"
          }
        },
        {
          "output_type": "display_data",
          "data": {
            "image/png": "[encoded data removed]",
            "text/plain": [
              "<Figure size 432x288 with 1 Axes>"
            ]
          },
          "metadata": {
            "tags": [],
            "needs_background": "light"
          }
        },
        {
          "output_type": "display_data",
          "data": {
            "image/png": "[encoded data removed]",
            "text/plain": [
              "<Figure size 432x288 with 1 Axes>"
            ]
          },
          "metadata": {
            "tags": [],
            "needs_background": "light"
          }
        },
        {
          "output_type": "display_data",
          "data": {
            "image/png": "[encoded data removed]",
            "text/plain": [
              "<Figure size 432x288 with 1 Axes>"
            ]
          },
          "metadata": {
            "tags": [],
            "needs_background": "light"
          }
        },
        {
          "output_type": "display_data",
          "data": {
            "image/png": "[encoded data removed]",
            "text/plain": [
              "<Figure size 432x288 with 1 Axes>"
            ]
          },
          "metadata": {
            "tags": [],
            "needs_background": "light"
          }
        },
        {
          "output_type": "display_data",
          "data": {
            "image/png": "[encoded data removed]",
            "text/plain": [
              "<Figure size 432x288 with 1 Axes>"
            ]
          },
          "metadata": {
            "tags": [],
            "needs_background": "light"
          }
        },
        {
          "output_type": "display_data",
          "data": {
            "image/png": "[encoded data removed]",
            "text/plain": [
              "<Figure size 432x288 with 1 Axes>"
            ]
          },
          "metadata": {
            "tags": [],
            "needs_background": "light"
          }
        },
        {
          "output_type": "display_data",
          "data": {
            "image/png": "[encoded data removed]",
            "text/plain": [
              "<Figure size 432x288 with 1 Axes>"
            ]
          },
          "metadata": {
            "tags": [],
            "needs_background": "light"
          }
        },
        {
          "output_type": "display_data",
          "data": {
            "image/png": "[encoded data removed]",
            "text/plain": [
              "<Figure size 432x288 with 1 Axes>"
            ]
          },
          "metadata": {
            "tags": [],
            "needs_background": "light"
          }
        },
        {
          "output_type": "display_data",
          "data": {
            "image/png": "[encoded data removed]",
            "text/plain": [
              "<Figure size 432x288 with 1 Axes>"
            ]
          },
          "metadata": {
            "tags": [],
            "needs_background": "light"
          }
        }
      ]
    },
    {
      "cell_type": "markdown",
      "metadata": {
        "id": "-FZiZj_suV1n"
      },
      "source": [
        "훈련할 때 적대적 손실이 크게 증가할 수도 있습니다. 반면 판별자의 손실은 0으로 향합니다. 결국 판별자가 생성자를 압도하게됩니다. 이 케이스에는 판별자의 학습률을 낮추고 판별자의 드롭아웃 비율을 높여서 하면됩니다."
      ]
    }
  ]
}