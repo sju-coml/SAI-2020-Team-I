{
  "nbformat": 4,
  "nbformat_minor": 0,
  "metadata": {
    "colab": {
      "name": "6_3 순환 신경망의 고급 사용법.ipynb",
      "provenance": [],
      "authorship_tag": "ABX9TyNtweIEBrRQRpC5UZOx3Hkn",
      "include_colab_link": true
    },
    "kernelspec": {
      "name": "python3",
      "display_name": "Python 3"
    },
    "accelerator": "GPU"
  },
  "cells": [
    {
      "cell_type": "markdown",
      "metadata": {
        "id": "view-in-github",
        "colab_type": "text"
      },
      "source": [
        "<a href=\"https://colab.research.google.com/github/minnji88/DeepLearning2020/blob/master/6_3_%EC%88%9C%ED%99%98_%EC%8B%A0%EA%B2%BD%EB%A7%9D%EC%9D%98_%EA%B3%A0%EA%B8%89_%EC%82%AC%EC%9A%A9%EB%B2%95.ipynb\" target=\"_parent\"><img src=\"https://colab.research.google.com/assets/colab-badge.svg\" alt=\"Open In Colab\"/></a>"
      ]
    },
    {
      "cell_type": "markdown",
      "metadata": {
        "id": "4Qnyo3ndURcQ"
      },
      "source": [
        "기법들은 다음과 같습니다.\n",
        "1. 순환 드롭아웃(recurrent dropout) : 순환 층에서 과대적합을 방지하기 위해 케라스에 내장되어 있는 드롭아웃을 사용\n",
        "2. 스태킹 순환 층(stacking recurrent layer) : 네트워크의 표현 능력(representation power)을 증가 - 대신 계산 비용이 많이듬\n",
        "3. 양방향 순환 층(bidirectional recurrent layer) : 순환 네트워크에 같은 정보를 다른 방향으로 주입하여 정확도를 높이고 기억을 좀 더 오래 유지시킵니다.\n"
      ]
    },
    {
      "cell_type": "markdown",
      "metadata": {
        "id": "xbOhCZeKUo37"
      },
      "source": [
        "##6.3.1 기온 예측 문제"
      ]
    },
    {
      "cell_type": "code",
      "metadata": {
        "colab": {
          "base_uri": "https://localhost:8080/"
        },
        "id": "keGfT6hETX_r",
        "outputId": "363e0955-921f-4b00-d244-f7f7cb23242c"
      },
      "source": [
        "from google.colab import drive\n",
        "drive.mount('/content/drive')"
      ],
      "execution_count": 3,
      "outputs": [
        {
          "output_type": "stream",
          "text": [
            "Mounted at /content/drive\n"
          ],
          "name": "stdout"
        }
      ]
    },
    {
      "cell_type": "code",
      "metadata": {
        "colab": {
          "base_uri": "https://localhost:8080/"
        },
        "id": "BRpPLI3GU4yJ",
        "outputId": "0fb7b363-06c2-42ad-80ce-9c29279bc5a5"
      },
      "source": [
        "# 코드 6-28 예나의 날씨 데이터셋 조사하기\n",
        "\n",
        "import os\n",
        "\n",
        "data_dir = '/content/drive/My Drive/COLAB/SAI/jena_climate'\n",
        "fname = os.path.join(data_dir, 'jena_climate_2009_2016.csv')\n",
        "\n",
        "f = open(fname)\n",
        "data = f.read()\n",
        "f.close()\n",
        "\n",
        "lines = data.split('\\n')\n",
        "header = lines[0].split(',')\n",
        "lines = lines[1:]\n",
        "\n",
        "print(header)\n",
        "print(len(lines))"
      ],
      "execution_count": 4,
      "outputs": [
        {
          "output_type": "stream",
          "text": [
            "['\"Date Time\"', '\"p (mbar)\"', '\"T (degC)\"', '\"Tpot (K)\"', '\"Tdew (degC)\"', '\"rh (%)\"', '\"VPmax (mbar)\"', '\"VPact (mbar)\"', '\"VPdef (mbar)\"', '\"sh (g/kg)\"', '\"H2OC (mmol/mol)\"', '\"rho (g/m**3)\"', '\"wv (m/s)\"', '\"max. wv (m/s)\"', '\"wd (deg)\"']\n",
            "420451\n"
          ],
          "name": "stdout"
        }
      ]
    },
    {
      "cell_type": "markdown",
      "metadata": {
        "id": "_LcfrHCcYhrM"
      },
      "source": [
        "420,551개 데이터 전체를 넘파이 배열로 바꿉니다:"
      ]
    },
    {
      "cell_type": "code",
      "metadata": {
        "id": "0Ij8pVbNYJN6"
      },
      "source": [
        "# 코드 6-29 데이터 파싱하기\n",
        "import numpy as np\n",
        "\n",
        "float_data = np.zeros((len(lines), len(header)-1))\n",
        "for i, line in enumerate(lines):\n",
        "  values = [float(x) for x in line.split(',')[1:]]\n",
        "  float_data[i,:] = values"
      ],
      "execution_count": 5,
      "outputs": []
    },
    {
      "cell_type": "markdown",
      "metadata": {
        "id": "42DH8XHoYpxj"
      },
      "source": [
        "예를 들어 다음은 시간에 따른 기온(섭씨) 그래프입니다:"
      ]
    },
    {
      "cell_type": "code",
      "metadata": {
        "colab": {
          "base_uri": "https://localhost:8080/",
          "height": 268
        },
        "id": "vcijDQn6YlqP",
        "outputId": "e44fcc64-389f-4b1e-f4f3-48b4cd861558"
      },
      "source": [
        "from matplotlib import pyplot as plt\n",
        "\n",
        "temp = float_data[:, 1]  # 온도(섭씨)\n",
        "plt.plot(range(len(temp)), temp)\n",
        "plt.show()"
      ],
      "execution_count": 6,
      "outputs": [
        {
          "output_type": "display_data",
          "data": {
            "image/png": "[encoded data removed]",
            "text/plain": [
              "<Figure size 432x288 with 1 Axes>"
            ]
          },
          "metadata": {
            "tags": [],
            "needs_background": "light"
          }
        }
      ]
    },
    {
      "cell_type": "markdown",
      "metadata": {
        "id": "y6e-eEnEZfQ6"
      },
      "source": [
        "이 그래프에서 온도에 주기성이 있다는 것을 잘 볼 수 있습니다.\n",
        "\n",
        "다음은 기간을 좁혀서 처음 10일간의 온도 데이터를 나타낸 그래프입니다. 10분마다 데이터가 기록되므로 하루에 총 144개의 데이터 포인트가 있습니다:"
      ]
    },
    {
      "cell_type": "code",
      "metadata": {
        "colab": {
          "base_uri": "https://localhost:8080/",
          "height": 265
        },
        "id": "MquDh1CRZRkz",
        "outputId": "330f872d-df9e-4249-d65b-2c2344e56e64"
      },
      "source": [
        "plt.plot(range(1440), temp[:1440])\n",
        "plt.show()"
      ],
      "execution_count": 7,
      "outputs": [
        {
          "output_type": "display_data",
          "data": {
            "image/png": "[encoded data removed]",
            "text/plain": [
              "<Figure size 432x288 with 1 Axes>"
            ]
          },
          "metadata": {
            "tags": [],
            "needs_background": "light"
          }
        }
      ]
    },
    {
      "cell_type": "markdown",
      "metadata": {
        "id": "CFp9P3XCZtuH"
      },
      "source": [
        "이 그래프에서 일별 주기성을 볼 수 있습니다. 특히 마지막 4일간을 보면 확실합니다. 이 데이터는 아주 추운 겨울 중 10일입니다.\n",
        "\n",
        "지난 몇 달간의 데이터를 사용해 다음 달의 평균 온도를 예측하는 문제는 쉬운 편입니다. 연간 데이터 주기성은 안정적이기 때문입니다. 하지만 하루 하루 데이터를 살펴보면 온도 변화는 매우 불안정합니다. 일자별 수준의 시계열 데이터를 예측할 수 있을까요? 직접 확인해 보겠습니다."
      ]
    },
    {
      "cell_type": "markdown",
      "metadata": {
        "id": "EgmJ8216Zz6c"
      },
      "source": [
        "## 6.3.2 데이터 준비\n",
        "사용할 변수는 다음과 같습니다.\n",
        "- lookback = 1440 : 10일 전 데이터로 돌아갑니다.\n",
        "- steps = 6 : 한 시간마다 데이터 포인트 하나를 샘플링합니다.\n",
        "- delay = 144 : 24시간이 지난 데이터가 타깃이 됩니다.\n",
        "\n",
        "신경망에 주입할 수 있는 형태로 데이터를 전처리합니다. 데이터가 이미 수치형이므로 추가적인 벡터화가 필요하지 않습니다. 하지만 데이터에 있는 각 시계열 특성의 범위가 서로 다릅니다(예를 들어 온도는 일반적으로 -20도에서 +30도 사이이고, 밀리바(mb)로 측정된 기압은 1,000 근처의 값입니다). 각 시계열 특성을 개별적으로 정규화하여 비슷한 범위를 가진 작은 값으로 바꾸겠습니다.\n",
        "float_data 배열을 받아 과거 데이터의 배치와 미래 타깃 온도를 추출하는 파이썬 제너레이터를 만듭니다. 이 데이터셋에 있는 샘플은 중복이 많습니다(샘플 N과 샘플 N + 1은 대부분 타임스텝이 비슷합니다). 모든 샘플을 각기 메모리에 적재하는 것은 낭비가 심하므로 대신에 원본 데이터를 사용해 그때 그때 배치를 만들겠습니다."
      ]
    },
    {
      "cell_type": "markdown",
      "metadata": {
        "id": "MNvJHxPNanui"
      },
      "source": [
        "각 시계열 특성에 대해 평균을 빼고 표준 편차로 나누어 전처리합니다. 처음 200,000개 타임스텝을 훈련 데이터로 사용할 것이므로 전체 데이터에서 200,000개만 사용하여 평균과 표준 편차를 계산합니다:"
      ]
    },
    {
      "cell_type": "code",
      "metadata": {
        "id": "wXhTAuEPZieW"
      },
      "source": [
        "mean = float_data[:200000].mean(axis=0)\n",
        "float_data -= mean\n",
        "std = float_data[:200000].std(axis=0)\n",
        "float_data /= std"
      ],
      "execution_count": 12,
      "outputs": []
    },
    {
      "cell_type": "markdown",
      "metadata": {
        "id": "X9jadEEma5gh"
      },
      "source": [
        "제너레이터 함수는 (samples, targets) 튜플을 반복적으로 반환합니다. 각각은 입력 데이터로 사용할 배치와 이에 대응되는 타깃의 온도의 배열입니다. 다음과 같은 매개변수를 가집니다.\n",
        "\n",
        "- data : 정규화를 진행한 부동 소수 데이터로 이루어진 원본 배열\n",
        "- lookback : 입력으로 사용하기 위해 거슬러 올라갈 타임스텝\n",
        "- delay : 타깃으로 사용할 미래의 타임스텝\n",
        "- min_index와 max_index : 추출할 타임스텝의 범위를 지정하기 위한 data 배열의 인덱스, 검증 데이터와 테스트 데이터를 분리하는 데 사용\n",
        "- shuffle : 샘플을 섞을지, 시간 순서대로 추출할지 결정\n",
        "- batch_size : 배치의 샘플 수\n",
        "- step : 테이터를 샘플링할 타임스텝 간격. 1시간에 하나의 데이터 포인트를 추출하기 위해 6으로 지정"
      ]
    },
    {
      "cell_type": "code",
      "metadata": {
        "id": "zmps5KOPatgB"
      },
      "source": [
        "# 코드 6-33 시계열 데이터와 타깃을 반환하는 제너레이터 함수\n",
        "\n",
        "def generator(data, lookback, delay, min_index, max_index,\n",
        "              shuffle=False, batch_size=128, step=6):\n",
        "    if max_index is None:\n",
        "        max_index = len(data) - delay - 1\n",
        "    i = min_index + lookback\n",
        "    while 1:\n",
        "        if shuffle:\n",
        "            rows = np.random.randint(\n",
        "                min_index + lookback, max_index, size=batch_size)\n",
        "        else:\n",
        "            if i + batch_size >= max_index:\n",
        "                i = min_index + lookback\n",
        "            rows = np.arange(i, min(i + batch_size, max_index))\n",
        "            i += len(rows)\n",
        "\n",
        "        samples = np.zeros((len(rows),\n",
        "                           lookback // step,\n",
        "                           data.shape[-1]))\n",
        "        targets = np.zeros((len(rows),))\n",
        "        for j, row in enumerate(rows):\n",
        "            indices = range(rows[j] - lookback, rows[j], step)\n",
        "            samples[j] = data[indices]\n",
        "            targets[j] = data[rows[j] + delay][1]\n",
        "        yield samples, targets"
      ],
      "execution_count": 13,
      "outputs": []
    },
    {
      "cell_type": "code",
      "metadata": {
        "id": "9KhsERCibQHK"
      },
      "source": [
        "# 코드 6-34 훈련, 검증, 테스트 제너레이터 준비하기\n",
        "lookback = 1440\n",
        "step = 6\n",
        "delay = 144\n",
        "batch_size = 128\n",
        "\n",
        "train_gen = generator(float_data,\n",
        "                      lookback=lookback,\n",
        "                      delay=delay,\n",
        "                      min_index=0,\n",
        "                      max_index=200000,\n",
        "                      shuffle=True,\n",
        "                      step=step,\n",
        "                      batch_size=batch_size)\n",
        "val_gen = generator(float_data,\n",
        "                    lookback=lookback,\n",
        "                    delay=delay,\n",
        "                    min_index=200001,\n",
        "                    max_index=300000,\n",
        "                    step=step,\n",
        "                    batch_size=batch_size)\n",
        "test_gen = generator(float_data,\n",
        "                     lookback=lookback,\n",
        "                     delay=delay,\n",
        "                     min_index=300001,\n",
        "                     max_index=None,\n",
        "                     step=step,\n",
        "                     batch_size=batch_size)\n",
        "\n",
        "# 전체 검증 세트를 순회하기 위해 val_gen에서 추출할 횟수\n",
        "val_steps = (300000 - 200001 - lookback) // batch_size\n",
        "\n",
        "# 전체 테스트 세트를 순회하기 위해 test_gen에서 추출할 횟수\n",
        "test_steps = (len(float_data) - 300001 - lookback) // batch_size"
      ],
      "execution_count": 14,
      "outputs": []
    },
    {
      "cell_type": "markdown",
      "metadata": {
        "id": "JZMxYRg3bmNZ"
      },
      "source": [
        "## 6.3.3 상식 수준의 기준점\n",
        "\n",
        "이 온도 시계열 데이터는 연속성이 있고 일자별로 주기성을 가지므로 24시간 후 온도는 지금과 동일하다고 예측할 수 있습니다. 이 방법을 평균 절댓값 오차(MAE)로 평가해 보겠습니다."
      ]
    },
    {
      "cell_type": "code",
      "metadata": {
        "colab": {
          "base_uri": "https://localhost:8080/"
        },
        "id": "47awego0bizS",
        "outputId": "b4ab5767-92d7-454a-efb2-716609f8cba3"
      },
      "source": [
        "# 코드 6-35 상식적인 기준 모델의 MAE 계산하기\n",
        "\n",
        "def evaluate_naive_method():\n",
        "    batch_maes = []\n",
        "    for step in range(val_steps):\n",
        "        samples, targets = next(val_gen)\n",
        "        preds = samples[:, -1, 1]\n",
        "        mae = np.mean(np.abs(preds - targets))\n",
        "        batch_maes.append(mae)\n",
        "    print(np.mean(batch_maes))\n",
        "\n",
        "evaluate_naive_method()"
      ],
      "execution_count": 15,
      "outputs": [
        {
          "output_type": "stream",
          "text": [
            "0.2897359729905486\n"
          ],
          "name": "stdout"
        }
      ]
    },
    {
      "cell_type": "markdown",
      "metadata": {
        "id": "vt_legI_b8lH"
      },
      "source": [
        "다음 코드에서 출력된 값은 0.29 입니다. 이 온도 데이터는 평균이 0이고 표준 편차가 1이므로 결과값의 의미를 파악하기는 어렵습니다. 평균 절댓값 오차에 표준 편차를 곱하면 알 수 있습니다."
      ]
    },
    {
      "cell_type": "code",
      "metadata": {
        "colab": {
          "base_uri": "https://localhost:8080/"
        },
        "id": "sj6uVm84bzBQ",
        "outputId": "2260fe38-50f4-491d-e72d-e314df4ce24a"
      },
      "source": [
        "# 코드 6-36 MAE 섭씨 단위로 변환하기\n",
        "\n",
        "0.29 * std[1]"
      ],
      "execution_count": 16,
      "outputs": [
        {
          "output_type": "execute_result",
          "data": {
            "text/plain": [
              "2.5672247338393395"
            ]
          },
          "metadata": {
            "tags": []
          },
          "execution_count": 16
        }
      ]
    },
    {
      "cell_type": "markdown",
      "metadata": {
        "id": "7VAPoD58cJcb"
      },
      "source": [
        "## 6.3.4 기본적인 머신 러닝 방법"
      ]
    },
    {
      "cell_type": "code",
      "metadata": {
        "colab": {
          "base_uri": "https://localhost:8080/"
        },
        "id": "BgcuUDeTcECm",
        "outputId": "64716046-e75f-4a54-836e-764617d9d9ac"
      },
      "source": [
        "# 코드 6-37 완전 연결 모델을 훈련하고 평가하기\n",
        "\n",
        "from keras.models import Sequential\n",
        "from keras import layers\n",
        "from keras.optimizers import RMSprop\n",
        "\n",
        "model = Sequential()\n",
        "model.add(layers.Flatten(input_shape=(lookback // step, float_data.shape[-1])))\n",
        "model.add(layers.Dense(32, activation='relu'))\n",
        "model.add(layers.Dense(1))\n",
        "\n",
        "model.compile(optimizer=RMSprop(), loss='mae')\n",
        "history = model.fit_generator(train_gen,\n",
        "                              steps_per_epoch=500,\n",
        "                              epochs=20,\n",
        "                              validation_data=val_gen,\n",
        "                              validation_steps=val_steps)"
      ],
      "execution_count": 17,
      "outputs": [
        {
          "output_type": "stream",
          "text": [
            "/usr/local/lib/python3.6/dist-packages/tensorflow/python/keras/engine/training.py:1844: UserWarning: `Model.fit_generator` is deprecated and will be removed in a future version. Please use `Model.fit`, which supports generators.\n",
            "  warnings.warn('`Model.fit_generator` is deprecated and '\n"
          ],
          "name": "stderr"
        },
        {
          "output_type": "stream",
          "text": [
            "Epoch 1/20\n",
            "500/500 [==============================] - 13s 22ms/step - loss: 1.6299 - val_loss: 0.5205\n",
            "Epoch 2/20\n",
            "500/500 [==============================] - 11s 21ms/step - loss: 0.4446 - val_loss: 0.3042\n",
            "Epoch 3/20\n",
            "500/500 [==============================] - 10s 21ms/step - loss: 0.2942 - val_loss: 0.3043\n",
            "Epoch 4/20\n",
            "500/500 [==============================] - 11s 21ms/step - loss: 0.2650 - val_loss: 0.3391\n",
            "Epoch 5/20\n",
            "500/500 [==============================] - 11s 21ms/step - loss: 0.2550 - val_loss: 0.3196\n",
            "Epoch 6/20\n",
            "500/500 [==============================] - 11s 21ms/step - loss: 0.2433 - val_loss: 0.2999\n",
            "Epoch 7/20\n",
            "500/500 [==============================] - 11s 21ms/step - loss: 0.2389 - val_loss: 0.3288\n",
            "Epoch 8/20\n",
            "500/500 [==============================] - 11s 22ms/step - loss: 0.2328 - val_loss: 0.3317\n",
            "Epoch 9/20\n",
            "500/500 [==============================] - 11s 21ms/step - loss: 0.2276 - val_loss: 0.3092\n",
            "Epoch 10/20\n",
            "500/500 [==============================] - 11s 21ms/step - loss: 0.2218 - val_loss: 0.3167\n",
            "Epoch 11/20\n",
            "500/500 [==============================] - 11s 21ms/step - loss: 0.2178 - val_loss: 0.3216\n",
            "Epoch 12/20\n",
            "500/500 [==============================] - 11s 21ms/step - loss: 0.2153 - val_loss: 0.3179\n",
            "Epoch 13/20\n",
            "500/500 [==============================] - 11s 21ms/step - loss: 0.2128 - val_loss: 0.3204\n",
            "Epoch 14/20\n",
            "500/500 [==============================] - 11s 21ms/step - loss: 0.2121 - val_loss: 0.3378\n",
            "Epoch 15/20\n",
            "500/500 [==============================] - 11s 21ms/step - loss: 0.2085 - val_loss: 0.3370\n",
            "Epoch 16/20\n",
            "500/500 [==============================] - 11s 21ms/step - loss: 0.2052 - val_loss: 0.3269\n",
            "Epoch 17/20\n",
            "500/500 [==============================] - 11s 21ms/step - loss: 0.2041 - val_loss: 0.3308\n",
            "Epoch 18/20\n",
            "500/500 [==============================] - 10s 21ms/step - loss: 0.2033 - val_loss: 0.3417\n",
            "Epoch 19/20\n",
            "500/500 [==============================] - 11s 22ms/step - loss: 0.1996 - val_loss: 0.3315\n",
            "Epoch 20/20\n",
            "500/500 [==============================] - 11s 22ms/step - loss: 0.1983 - val_loss: 0.3737\n"
          ],
          "name": "stdout"
        }
      ]
    },
    {
      "cell_type": "code",
      "metadata": {
        "colab": {
          "base_uri": "https://localhost:8080/",
          "height": 281
        },
        "id": "lHiYe22XcQRc",
        "outputId": "9af43999-8f2d-4f47-d199-7d9111ca6b16"
      },
      "source": [
        "# 코드 6-38 결과 그래프 그리기\n",
        "import matplotlib.pyplot as plt\n",
        "\n",
        "loss = history.history['loss']\n",
        "val_loss = history.history['val_loss']\n",
        "\n",
        "epochs = range(1, len(loss) + 1)\n",
        "\n",
        "plt.figure()\n",
        "\n",
        "plt.plot(epochs, loss, 'bo', label='Training loss')\n",
        "plt.plot(epochs, val_loss, 'b', label='Validation loss')\n",
        "plt.title('Training and validation loss')\n",
        "plt.legend()\n",
        "\n",
        "plt.show()"
      ],
      "execution_count": 18,
      "outputs": [
        {
          "output_type": "display_data",
          "data": {
            "image/png": "[encoded data removed]",
            "text/plain": [
              "<Figure size 432x288 with 1 Axes>"
            ]
          },
          "metadata": {
            "tags": [],
            "needs_background": "light"
          }
        }
      ]
    },
    {
      "cell_type": "markdown",
      "metadata": {
        "id": "XuyIjcTFdKt2"
      },
      "source": [
        "왜 상식 수준보다 훈련된 모델이 성능이 낮을까요? 그 이유는 훈련 과정이 찾는 것은 간단한 모델이 아니기 때문입니다. 현재 훈련으로 학습된 모델은 매개변수로 설정한 2개의 층을 가진 네트워크의 모든 가능한 가중치 조합입니다. 복잡한 모델 공간에서 해결책을 탐색할 때 간단하고 괜찮은 성능을 내는 모델은 찾지 못할 수 있는 것입니다. 이것이 머신 러닝이 가진 심각한 제약 사항입니다."
      ]
    },
    {
      "cell_type": "markdown",
      "metadata": {
        "id": "LL4w7An-dXa4"
      },
      "source": [
        "## 6.3.5 첫 번째 순환 신경망\n",
        "\n",
        "첫 번째 완전 연결 네트워크는 실패입니다. 앞선 모델은 시계열 데이터를 펼쳐 시간 개념을 활용할 수 없었습니다. 이제 순서의 의미가 있는 시퀀스 데이터를 그대로 사용해보겠습니다.\n",
        "\n",
        "이전 절에서 소개한 LSTM이 아닌 GRU 층을 사용합니다. GRU층은 LSTM과 같은 원리로 작동하지만 조금 간결하고, 계산 비용이 덜 듭니다.\n",
        "대신 학습 능력이 비교적 부족할 수는 있습니다."
      ]
    },
    {
      "cell_type": "code",
      "metadata": {
        "colab": {
          "base_uri": "https://localhost:8080/"
        },
        "id": "VE1k0gxIdJg5",
        "outputId": "6e33deaa-355f-4e92-d8c9-ce8df4782a1f"
      },
      "source": [
        "# 코드 6-39 GRU를 사용한 모델을 훈련하고 평가하기\n",
        "from keras.models import Sequential\n",
        "from keras import layers\n",
        "from keras.optimizers import RMSprop\n",
        "\n",
        "model = Sequential()\n",
        "model.add(layers.GRU(32, input_shape=(None, float_data.shape[-1])))\n",
        "model.add(layers.Dense(1))\n",
        "\n",
        "model.compile(optimizer=RMSprop(), loss='mae')\n",
        "history = model.fit_generator(train_gen,\n",
        "                              steps_per_epoch=500,\n",
        "                              epochs=20,\n",
        "                              validation_data=val_gen,\n",
        "                              validation_steps=val_steps)"
      ],
      "execution_count": 19,
      "outputs": [
        {
          "output_type": "stream",
          "text": [
            "/usr/local/lib/python3.6/dist-packages/tensorflow/python/keras/engine/training.py:1844: UserWarning: `Model.fit_generator` is deprecated and will be removed in a future version. Please use `Model.fit`, which supports generators.\n",
            "  warnings.warn('`Model.fit_generator` is deprecated and '\n"
          ],
          "name": "stderr"
        },
        {
          "output_type": "stream",
          "text": [
            "Epoch 1/20\n",
            "500/500 [==============================] - 21s 31ms/step - loss: 0.3664 - val_loss: 0.2733\n",
            "Epoch 2/20\n",
            "500/500 [==============================] - 15s 30ms/step - loss: 0.2877 - val_loss: 0.2653\n",
            "Epoch 3/20\n",
            "500/500 [==============================] - 15s 30ms/step - loss: 0.2822 - val_loss: 0.2619\n",
            "Epoch 4/20\n",
            "500/500 [==============================] - 15s 30ms/step - loss: 0.2757 - val_loss: 0.2613\n",
            "Epoch 5/20\n",
            "500/500 [==============================] - 15s 30ms/step - loss: 0.2741 - val_loss: 0.2649\n",
            "Epoch 6/20\n",
            "500/500 [==============================] - 15s 31ms/step - loss: 0.2670 - val_loss: 0.2657\n",
            "Epoch 7/20\n",
            "500/500 [==============================] - 15s 30ms/step - loss: 0.2630 - val_loss: 0.2664\n",
            "Epoch 8/20\n",
            "500/500 [==============================] - 15s 30ms/step - loss: 0.2577 - val_loss: 0.2716\n",
            "Epoch 9/20\n",
            "500/500 [==============================] - 15s 31ms/step - loss: 0.2536 - val_loss: 0.2725\n",
            "Epoch 10/20\n",
            "500/500 [==============================] - 15s 30ms/step - loss: 0.2490 - val_loss: 0.2703\n",
            "Epoch 11/20\n",
            "500/500 [==============================] - 15s 30ms/step - loss: 0.2436 - val_loss: 0.2736\n",
            "Epoch 12/20\n",
            "500/500 [==============================] - 15s 30ms/step - loss: 0.2402 - val_loss: 0.2772\n",
            "Epoch 13/20\n",
            "500/500 [==============================] - 15s 30ms/step - loss: 0.2379 - val_loss: 0.2794\n",
            "Epoch 14/20\n",
            "500/500 [==============================] - 15s 30ms/step - loss: 0.2333 - val_loss: 0.2826\n",
            "Epoch 15/20\n",
            "500/500 [==============================] - 15s 30ms/step - loss: 0.2312 - val_loss: 0.2844\n",
            "Epoch 16/20\n",
            "500/500 [==============================] - 15s 30ms/step - loss: 0.2269 - val_loss: 0.2892\n",
            "Epoch 17/20\n",
            "500/500 [==============================] - 15s 30ms/step - loss: 0.2246 - val_loss: 0.2913\n",
            "Epoch 18/20\n",
            "500/500 [==============================] - 15s 30ms/step - loss: 0.2195 - val_loss: 0.2979\n",
            "Epoch 19/20\n",
            "500/500 [==============================] - 15s 31ms/step - loss: 0.2165 - val_loss: 0.3006\n",
            "Epoch 20/20\n",
            "500/500 [==============================] - 15s 30ms/step - loss: 0.2134 - val_loss: 0.3012\n"
          ],
          "name": "stdout"
        }
      ]
    },
    {
      "cell_type": "code",
      "metadata": {
        "colab": {
          "base_uri": "https://localhost:8080/",
          "height": 281
        },
        "id": "k1wEBoFSdjRs",
        "outputId": "f7eed1db-ca54-46e2-fd94-8d1bb163563d"
      },
      "source": [
        "loss = history.history['loss']\n",
        "val_loss = history.history['val_loss']\n",
        "\n",
        "epochs = range(1, len(loss) + 1)\n",
        "\n",
        "plt.figure()\n",
        "\n",
        "plt.plot(epochs, loss, 'bo', label='Training loss')\n",
        "plt.plot(epochs, val_loss, 'b', label='Validation loss')\n",
        "plt.title('Training and validation loss')\n",
        "plt.legend()\n",
        "\n",
        "plt.show()"
      ],
      "execution_count": 14,
      "outputs": [
        {
          "output_type": "display_data",
          "data": {
            "image/png": "[encoded data removed]",
            "text/plain": [
              "<Figure size 432x288 with 1 Axes>"
            ]
          },
          "metadata": {
            "tags": [],
            "needs_background": "light"
          }
        }
      ]
    },
    {
      "cell_type": "markdown",
      "metadata": {
        "id": "mvB52oQid-8F"
      },
      "source": [
        "훨씬 좋군요! 상식 수준의 모델을 크게 앞질렀습니다. 이 그림은 시퀀스를 펼쳐서 처리하는 완전 연결 네트워크에 비해서 순환 네트워크가 이런 종류의 작업에 훨씬 뛰어나다는 것과 머신 러닝의 가치를 보여줍니다.\n",
        "\n",
        "새로운 검증 MAE는 0.265 이하(크게 과대적합되기 시작하는 곳)이고 정규화되기 전인 섭씨로 복원하면 MAE는 2.35°C입니다. 초기 에러 2.57°C보다는 확실히 낫지만 더 개선할 수 있을 것 같습니다."
      ]
    },
    {
      "cell_type": "markdown",
      "metadata": {
        "id": "jh3THgU_eFFv"
      },
      "source": [
        "## 6.3.6 과대적합을 감소하기 위해 순환 드롭아웃 사용하기\n",
        "\n",
        "케라스에서는recurrent_dropout을 이용하여 순환 드롭아웃을 적용할 수 있습니다. 드롭아웃을 하게되면 완전히 수렴하는데 더 오래걸리므로 에포크 수를 2배로 늘립니다."
      ]
    },
    {
      "cell_type": "code",
      "metadata": {
        "colab": {
          "base_uri": "https://localhost:8080/"
        },
        "id": "fvIcimgueFr3",
        "outputId": "fc186665-460d-4bd8-ff24-b67574e36646"
      },
      "source": [
        "# 코드 6-40 드롭아웃 규제된 GRU를 사용한 모델을 훈련하고 평가하기\n",
        "from keras.models import Sequential\n",
        "from keras import layers\n",
        "from keras.optimizers import RMSprop\n",
        "\n",
        "model = Sequential()\n",
        "model.add(layers.GRU(32,\n",
        "                     dropout=0.2,\n",
        "                     recurrent_dropout=0.2,\n",
        "                     input_shape=(None, float_data.shape[-1])))\n",
        "model.add(layers.Dense(1))\n",
        "\n",
        "model.compile(optimizer=RMSprop(), loss='mae')\n",
        "history = model.fit_generator(train_gen,\n",
        "                              steps_per_epoch=500,\n",
        "                              epochs=40,\n",
        "                              validation_data=val_gen,\n",
        "                              validation_steps=val_steps)"
      ],
      "execution_count": 20,
      "outputs": [
        {
          "output_type": "stream",
          "text": [
            "WARNING:tensorflow:Layer gru_1 will not use cuDNN kernel since it doesn't meet the cuDNN kernel criteria. It will use generic GPU kernel as fallback when running on GPU\n",
            "Epoch 1/40\n"
          ],
          "name": "stdout"
        },
        {
          "output_type": "stream",
          "text": [
            "/usr/local/lib/python3.6/dist-packages/tensorflow/python/keras/engine/training.py:1844: UserWarning: `Model.fit_generator` is deprecated and will be removed in a future version. Please use `Model.fit`, which supports generators.\n",
            "  warnings.warn('`Model.fit_generator` is deprecated and '\n"
          ],
          "name": "stderr"
        },
        {
          "output_type": "stream",
          "text": [
            "500/500 [==============================] - 403s 803ms/step - loss: 0.3539 - val_loss: 0.2769\n",
            "Epoch 2/40\n",
            "500/500 [==============================] - 401s 802ms/step - loss: 0.3073 - val_loss: 0.2730\n",
            "Epoch 3/40\n",
            "500/500 [==============================] - 400s 801ms/step - loss: 0.2993 - val_loss: 0.2723\n",
            "Epoch 4/40\n",
            "500/500 [==============================] - 400s 800ms/step - loss: 0.2939 - val_loss: 0.2765\n",
            "Epoch 5/40\n",
            "500/500 [==============================] - 399s 798ms/step - loss: 0.2871 - val_loss: 0.2770\n",
            "Epoch 6/40\n",
            "500/500 [==============================] - 401s 802ms/step - loss: 0.2834 - val_loss: 0.2724\n",
            "Epoch 7/40\n",
            "500/500 [==============================] - 400s 801ms/step - loss: 0.2809 - val_loss: 0.2884\n",
            "Epoch 8/40\n",
            "500/500 [==============================] - 400s 800ms/step - loss: 0.2775 - val_loss: 0.2760\n",
            "Epoch 9/40\n",
            "500/500 [==============================] - 402s 804ms/step - loss: 0.2755 - val_loss: 0.2715\n",
            "Epoch 10/40\n",
            "500/500 [==============================] - 399s 798ms/step - loss: 0.2715 - val_loss: 0.2759\n",
            "Epoch 11/40\n",
            "500/500 [==============================] - 399s 799ms/step - loss: 0.2694 - val_loss: 0.2777\n",
            "Epoch 12/40\n",
            "500/500 [==============================] - 400s 799ms/step - loss: 0.2654 - val_loss: 0.2763\n",
            "Epoch 13/40\n",
            "500/500 [==============================] - 397s 795ms/step - loss: 0.2627 - val_loss: 0.2809\n",
            "Epoch 14/40\n",
            "500/500 [==============================] - 399s 799ms/step - loss: 0.2615 - val_loss: 0.2876\n",
            "Epoch 15/40\n",
            "500/500 [==============================] - 398s 796ms/step - loss: 0.2572 - val_loss: 0.2892\n",
            "Epoch 16/40\n",
            "500/500 [==============================] - 399s 799ms/step - loss: 0.2539 - val_loss: 0.2877\n",
            "Epoch 17/40\n",
            "500/500 [==============================] - 398s 797ms/step - loss: 0.2533 - val_loss: 0.2916\n",
            "Epoch 18/40\n",
            "500/500 [==============================] - 398s 796ms/step - loss: 0.2513 - val_loss: 0.2879\n",
            "Epoch 19/40\n",
            "500/500 [==============================] - 397s 793ms/step - loss: 0.2504 - val_loss: 0.2883\n",
            "Epoch 20/40\n",
            "500/500 [==============================] - 398s 797ms/step - loss: 0.2464 - val_loss: 0.2903\n",
            "Epoch 21/40\n",
            "500/500 [==============================] - 399s 798ms/step - loss: 0.2461 - val_loss: 0.2937\n",
            "Epoch 22/40\n",
            "500/500 [==============================] - 398s 796ms/step - loss: 0.2420 - val_loss: 0.2951\n",
            "Epoch 23/40\n",
            "500/500 [==============================] - 399s 799ms/step - loss: 0.2435 - val_loss: 0.2941\n",
            "Epoch 24/40\n",
            "500/500 [==============================] - 399s 797ms/step - loss: 0.2400 - val_loss: 0.2981\n",
            "Epoch 25/40\n",
            "500/500 [==============================] - 398s 796ms/step - loss: 0.2403 - val_loss: 0.2963\n",
            "Epoch 26/40\n",
            "500/500 [==============================] - 403s 805ms/step - loss: 0.2380 - val_loss: 0.2976\n",
            "Epoch 27/40\n",
            "500/500 [==============================] - 409s 819ms/step - loss: 0.2360 - val_loss: 0.2996\n",
            "Epoch 28/40\n",
            "500/500 [==============================] - 408s 817ms/step - loss: 0.2330 - val_loss: 0.3001\n",
            "Epoch 29/40\n",
            "500/500 [==============================] - 406s 813ms/step - loss: 0.2322 - val_loss: 0.3038\n",
            "Epoch 30/40\n",
            "500/500 [==============================] - 400s 801ms/step - loss: 0.2332 - val_loss: 0.3028\n",
            "Epoch 31/40\n",
            "500/500 [==============================] - 400s 799ms/step - loss: 0.2334 - val_loss: 0.3037\n",
            "Epoch 32/40\n",
            "500/500 [==============================] - 404s 809ms/step - loss: 0.2305 - val_loss: 0.3048\n",
            "Epoch 33/40\n",
            "500/500 [==============================] - 403s 805ms/step - loss: 0.2314 - val_loss: 0.3051\n",
            "Epoch 34/40\n",
            "500/500 [==============================] - 401s 802ms/step - loss: 0.2287 - val_loss: 0.3063\n",
            "Epoch 35/40\n",
            "500/500 [==============================] - 401s 802ms/step - loss: 0.2267 - val_loss: 0.3072\n",
            "Epoch 36/40\n",
            "500/500 [==============================] - 400s 800ms/step - loss: 0.2267 - val_loss: 0.3098\n",
            "Epoch 37/40\n",
            "500/500 [==============================] - 399s 798ms/step - loss: 0.2273 - val_loss: 0.3098\n",
            "Epoch 38/40\n",
            "500/500 [==============================] - 400s 800ms/step - loss: 0.2252 - val_loss: 0.3096\n",
            "Epoch 39/40\n",
            "500/500 [==============================] - 402s 805ms/step - loss: 0.2227 - val_loss: 0.3067\n",
            "Epoch 40/40\n",
            "500/500 [==============================] - 403s 805ms/step - loss: 0.2218 - val_loss: 0.3213\n"
          ],
          "name": "stdout"
        }
      ]
    },
    {
      "cell_type": "code",
      "metadata": {
        "colab": {
          "base_uri": "https://localhost:8080/",
          "height": 281
        },
        "id": "L35iWzgDeWZ2",
        "outputId": "f6aa6e4f-2ec1-494b-80ab-474da9468645"
      },
      "source": [
        "loss = history.history['loss']\n",
        "val_loss = history.history['val_loss']\n",
        "\n",
        "epochs = range(1, len(loss) + 1)\n",
        "\n",
        "plt.figure()\n",
        "\n",
        "plt.plot(epochs, loss, 'bo', label='Training loss')\n",
        "plt.plot(epochs, val_loss, 'b', label='Validation loss')\n",
        "plt.title('Training and validation loss')\n",
        "plt.legend()\n",
        "\n",
        "plt.show()"
      ],
      "execution_count": 21,
      "outputs": [
        {
          "output_type": "display_data",
          "data": {
            "image/png": "[encoded data removed]",
            "text/plain": [
              "<Figure size 432x288 with 1 Axes>"
            ]
          },
          "metadata": {
            "tags": [],
            "needs_background": "light"
          }
        }
      ]
    },
    {
      "cell_type": "markdown",
      "metadata": {
        "id": "TJ9DoR_Seczl"
      },
      "source": [
        "층을 추가하여 성능을 조금 향상시켰지만 크지는 않습니다. 여기서 두 가지 결론을 얻을 수 있습니다:\n",
        "\n",
        "아직 충분히 과대적합을 만들지 못했기 때문에 검증 손실을 향상하기 위해서 층의 크기를 늘릴 수 있습니다. 하지만 적지 않은 계산 비용이 추가됩니다.\n",
        "층을 추가한 만큼 도움이 되지 않았으므로 여기서는 네트워크의 용량을 늘리는 것이 도움이 되지 않는다고 볼 수 있습니다."
      ]
    },
    {
      "cell_type": "markdown",
      "metadata": {
        "id": "-7yypWgSegHU"
      },
      "source": [
        "## 6.3.8 양방향 RNN 사용하기\n",
        "\n",
        "RNN은 순서 또는 시간에 민감합니다. 타임스텝을 섞거나 거꾸로 하면 RNN이 시퀀스에서 학습하는 표현을 완전히 바꾸어버립니다. 양방향 RNN은 RNN이 순서에 민감하다는 성질을 사용합니다. GRU나 LSTM 같은 RNN을 2개 사용합니다. 각 RNN은 각 입력을 한 방향(시간 순서나 반대 순서)으로 처리한 후 각 표현을 합칩니다. 시퀀스를 양쪽 방향으로 처리하기 때문에 RNN이 놓치기 쉬운 패턴을 감지할 수 있습니다."
      ]
    },
    {
      "cell_type": "code",
      "metadata": {
        "colab": {
          "base_uri": "https://localhost:8080/"
        },
        "id": "onxBG1kLegpX",
        "outputId": "edbf48cb-4d05-4f16-d383-4c71fea52086"
      },
      "source": [
        "# 코드 6-42 거꾸로 된 시퀀스를 사용한 LSTM을 훈련하고 평가하기\n",
        "def reverse_order_generator(data, lookback, delay, min_index, max_index,\n",
        "                            shuffle=False, batch_size=128, step=6):\n",
        "    if max_index is None:\n",
        "        max_index = len(data) - delay - 1\n",
        "    i = min_index + lookback\n",
        "    while 1:\n",
        "        if shuffle:\n",
        "            rows = np.random.randint(\n",
        "                min_index + lookback, max_index, size=batch_size)\n",
        "        else:\n",
        "            if i + batch_size >= max_index:\n",
        "                i = min_index + lookback\n",
        "            rows = np.arange(i, min(i + batch_size, max_index))\n",
        "            i += len(rows)\n",
        "\n",
        "        samples = np.zeros((len(rows),\n",
        "                           lookback // step,\n",
        "                           data.shape[-1]))\n",
        "        targets = np.zeros((len(rows),))\n",
        "        for j, row in enumerate(rows):\n",
        "            indices = range(rows[j] - lookback, rows[j], step)\n",
        "            samples[j] = data[indices]\n",
        "            targets[j] = data[rows[j] + delay][1]\n",
        "        yield samples[:, ::-1, :], targets\n",
        "\n",
        "train_gen_reverse = reverse_order_generator(\n",
        "    float_data,\n",
        "    lookback=lookback,\n",
        "    delay=delay,\n",
        "    min_index=0,\n",
        "    max_index=200000,\n",
        "    shuffle=True,\n",
        "    step=step,\n",
        "    batch_size=batch_size)\n",
        "val_gen_reverse = reverse_order_generator(\n",
        "    float_data,\n",
        "    lookback=lookback,\n",
        "    delay=delay,\n",
        "    min_index=200001,\n",
        "    max_index=300000,\n",
        "    step=step,\n",
        "    batch_size=batch_size)\n",
        "\n",
        "model = Sequential()\n",
        "model.add(layers.GRU(32, input_shape=(None, float_data.shape[-1])))\n",
        "model.add(layers.Dense(1))\n",
        "\n",
        "model.compile(optimizer=RMSprop(), loss='mae')\n",
        "history = model.fit_generator(train_gen_reverse,\n",
        "                              steps_per_epoch=500,\n",
        "                              epochs=20,\n",
        "                              validation_data=val_gen_reverse, \n",
        "                              validation_steps=val_steps)"
      ],
      "execution_count": 23,
      "outputs": [
        {
          "output_type": "stream",
          "text": [
            "/usr/local/lib/python3.6/dist-packages/tensorflow/python/keras/engine/training.py:1844: UserWarning: `Model.fit_generator` is deprecated and will be removed in a future version. Please use `Model.fit`, which supports generators.\n",
            "  warnings.warn('`Model.fit_generator` is deprecated and '\n"
          ],
          "name": "stderr"
        },
        {
          "output_type": "stream",
          "text": [
            "Epoch 1/20\n",
            "500/500 [==============================] - 16s 30ms/step - loss: 0.4996 - val_loss: 0.4859\n",
            "Epoch 2/20\n",
            "500/500 [==============================] - 15s 30ms/step - loss: 0.4558 - val_loss: 0.4660\n",
            "Epoch 3/20\n",
            "500/500 [==============================] - 15s 30ms/step - loss: 0.4049 - val_loss: 0.4311\n",
            "Epoch 4/20\n",
            "500/500 [==============================] - 15s 30ms/step - loss: 0.3623 - val_loss: 0.4175\n",
            "Epoch 5/20\n",
            "500/500 [==============================] - 15s 30ms/step - loss: 0.3352 - val_loss: 0.3834\n",
            "Epoch 6/20\n",
            "500/500 [==============================] - 15s 30ms/step - loss: 0.3172 - val_loss: 0.3577\n",
            "Epoch 7/20\n",
            "500/500 [==============================] - 15s 30ms/step - loss: 0.3008 - val_loss: 0.3707\n",
            "Epoch 8/20\n",
            "500/500 [==============================] - 15s 30ms/step - loss: 0.2886 - val_loss: 0.3521\n",
            "Epoch 9/20\n",
            "500/500 [==============================] - 15s 30ms/step - loss: 0.2766 - val_loss: 0.3588\n",
            "Epoch 10/20\n",
            "500/500 [==============================] - 15s 30ms/step - loss: 0.2677 - val_loss: 0.3532\n",
            "Epoch 11/20\n",
            "500/500 [==============================] - 15s 30ms/step - loss: 0.2587 - val_loss: 0.3442\n",
            "Epoch 12/20\n",
            "500/500 [==============================] - 15s 30ms/step - loss: 0.2515 - val_loss: 0.3474\n",
            "Epoch 13/20\n",
            "500/500 [==============================] - 15s 30ms/step - loss: 0.2455 - val_loss: 0.3530\n",
            "Epoch 14/20\n",
            "500/500 [==============================] - 15s 30ms/step - loss: 0.2388 - val_loss: 0.3475\n",
            "Epoch 15/20\n",
            "500/500 [==============================] - 15s 30ms/step - loss: 0.2332 - val_loss: 0.3509\n",
            "Epoch 16/20\n",
            "500/500 [==============================] - 15s 30ms/step - loss: 0.2279 - val_loss: 0.3726\n",
            "Epoch 17/20\n",
            "500/500 [==============================] - 15s 30ms/step - loss: 0.2251 - val_loss: 0.3634\n",
            "Epoch 18/20\n",
            "500/500 [==============================] - 15s 30ms/step - loss: 0.2209 - val_loss: 0.3639\n",
            "Epoch 19/20\n",
            "500/500 [==============================] - 15s 30ms/step - loss: 0.2151 - val_loss: 0.3610\n",
            "Epoch 20/20\n",
            "500/500 [==============================] - 16s 31ms/step - loss: 0.2115 - val_loss: 0.3746\n"
          ],
          "name": "stdout"
        }
      ]
    },
    {
      "cell_type": "markdown",
      "metadata": {
        "id": "75YdRXcYfVtJ"
      },
      "source": [
        "시간 순서로 훈련한 LSTM과 거의 동일한 성능을 얻을 수 있습니다. 이는 언어를 이해하는 데 단어의 순서가 중요하지만 결정적이지 않다는 가정을 뒷받침합니다.\n",
        "\n",
        "쨋든 양방향은 이렇게 각 방향에 대한 정보를 합쳐 더 나은 정보를 만든다는 점이 포인트입니다. 케라스에서는 Bidirectional층을 사용해 양방향 RNN을 만듭니다. 이 클래스는 첫 번째 매개 변수로 순환 층의 객체를 전달받습니다. 그 다음 전달받은 순환 층으로 새로운 두 번째 객체를 만듭니다."
      ]
    },
    {
      "cell_type": "code",
      "metadata": {
        "colab": {
          "base_uri": "https://localhost:8080/",
          "height": 281
        },
        "id": "HEC_sirSEn3i",
        "outputId": "a4c88628-c842-40bc-e2c5-ff2d8159be5c"
      },
      "source": [
        "loss = history.history['loss']\n",
        "val_loss = history.history['val_loss']\n",
        "\n",
        "epochs = range(1, len(loss) + 1)\n",
        "\n",
        "plt.figure()\n",
        "\n",
        "plt.plot(epochs, loss, 'bo', label='Training loss')\n",
        "plt.plot(epochs, val_loss, 'b', label='Validation loss')\n",
        "plt.title('Training and validation loss')\n",
        "plt.legend()\n",
        "\n",
        "plt.show()"
      ],
      "execution_count": 26,
      "outputs": [
        {
          "output_type": "display_data",
          "data": {
            "image/png": "[encoded data removed]",
            "text/plain": [
              "<Figure size 432x288 with 1 Axes>"
            ]
          },
          "metadata": {
            "tags": [],
            "needs_background": "light"
          }
        }
      ]
    },
    {
      "cell_type": "markdown",
      "metadata": {
        "id": "Hg3oS-IqEunx"
      },
      "source": [
        "같은 기법을 이전 절의 LSTM IMDB 예제에 적용해 보죠:"
      ]
    },
    {
      "cell_type": "code",
      "metadata": {
        "colab": {
          "base_uri": "https://localhost:8080/"
        },
        "id": "x9KZSdS0E0KU",
        "outputId": "1440e817-5f81-4c52-8741-cff4797d6fbd"
      },
      "source": [
        "from keras.datasets import imdb\n",
        "from keras.preprocessing import sequence\n",
        "from keras import layers\n",
        "from keras.models import Sequential\n",
        "\n",
        "# 특성으로 사용할 단어의 수\n",
        "max_features = 10000\n",
        "# 사용할 텍스트의 길이(가장 빈번한 max_features 개의 단어만 사용합니다)\n",
        "maxlen = 500\n",
        "\n",
        "# 데이터 로드\n",
        "(x_train, y_train), (x_test, y_test) = imdb.load_data(num_words=max_features)\n",
        "\n",
        "# 시퀀스를 뒤집습니다\n",
        "x_train = [x[::-1] for x in x_train]\n",
        "x_test = [x[::-1] for x in x_test]\n",
        "\n",
        "# 시퀀스에 패딩을 추가합니다\n",
        "x_train = sequence.pad_sequences(x_train, maxlen=maxlen)\n",
        "x_test = sequence.pad_sequences(x_test, maxlen=maxlen)\n",
        "\n",
        "model = Sequential()\n",
        "model.add(layers.Embedding(max_features, 128))\n",
        "model.add(layers.LSTM(32))\n",
        "model.add(layers.Dense(1, activation='sigmoid'))\n",
        "\n",
        "model.compile(optimizer='rmsprop',\n",
        "              loss='binary_crossentropy',\n",
        "              metrics=['acc'])\n",
        "history = model.fit(x_train, y_train,\n",
        "                    epochs=10,\n",
        "                    batch_size=128,\n",
        "                    validation_split=0.2)\n"
      ],
      "execution_count": 27,
      "outputs": [
        {
          "output_type": "stream",
          "text": [
            "<string>:6: VisibleDeprecationWarning: Creating an ndarray from ragged nested sequences (which is a list-or-tuple of lists-or-tuples-or ndarrays with different lengths or shapes) is deprecated. If you meant to do this, you must specify 'dtype=object' when creating the ndarray\n",
            "/usr/local/lib/python3.6/dist-packages/tensorflow/python/keras/datasets/imdb.py:159: VisibleDeprecationWarning: Creating an ndarray from ragged nested sequences (which is a list-or-tuple of lists-or-tuples-or ndarrays with different lengths or shapes) is deprecated. If you meant to do this, you must specify 'dtype=object' when creating the ndarray\n",
            "  x_train, y_train = np.array(xs[:idx]), np.array(labels[:idx])\n",
            "/usr/local/lib/python3.6/dist-packages/tensorflow/python/keras/datasets/imdb.py:160: VisibleDeprecationWarning: Creating an ndarray from ragged nested sequences (which is a list-or-tuple of lists-or-tuples-or ndarrays with different lengths or shapes) is deprecated. If you meant to do this, you must specify 'dtype=object' when creating the ndarray\n",
            "  x_test, y_test = np.array(xs[idx:]), np.array(labels[idx:])\n"
          ],
          "name": "stderr"
        },
        {
          "output_type": "stream",
          "text": [
            "Epoch 1/10\n",
            "157/157 [==============================] - 9s 49ms/step - loss: 0.6048 - acc: 0.6606 - val_loss: 0.3763 - val_acc: 0.8566\n",
            "Epoch 2/10\n",
            "157/157 [==============================] - 7s 47ms/step - loss: 0.3168 - acc: 0.8772 - val_loss: 0.3478 - val_acc: 0.8558\n",
            "Epoch 3/10\n",
            "157/157 [==============================] - 7s 47ms/step - loss: 0.2472 - acc: 0.9093 - val_loss: 0.4395 - val_acc: 0.8390\n",
            "Epoch 4/10\n",
            "157/157 [==============================] - 7s 47ms/step - loss: 0.2114 - acc: 0.9215 - val_loss: 0.4148 - val_acc: 0.8328\n",
            "Epoch 5/10\n",
            "157/157 [==============================] - 7s 47ms/step - loss: 0.1793 - acc: 0.9392 - val_loss: 0.4660 - val_acc: 0.8268\n",
            "Epoch 6/10\n",
            "157/157 [==============================] - 7s 47ms/step - loss: 0.1600 - acc: 0.9478 - val_loss: 0.3826 - val_acc: 0.8790\n",
            "Epoch 7/10\n",
            "157/157 [==============================] - 7s 46ms/step - loss: 0.1412 - acc: 0.9520 - val_loss: 0.4571 - val_acc: 0.8604\n",
            "Epoch 8/10\n",
            "157/157 [==============================] - 7s 46ms/step - loss: 0.1356 - acc: 0.9545 - val_loss: 0.4106 - val_acc: 0.8772\n",
            "Epoch 9/10\n",
            "157/157 [==============================] - 7s 46ms/step - loss: 0.1136 - acc: 0.9644 - val_loss: 0.4500 - val_acc: 0.8730\n",
            "Epoch 10/10\n",
            "157/157 [==============================] - 7s 46ms/step - loss: 0.0978 - acc: 0.9679 - val_loss: 0.4866 - val_acc: 0.8602\n"
          ],
          "name": "stdout"
        }
      ]
    },
    {
      "cell_type": "code",
      "metadata": {
        "id": "jq8wzRKlEYza"
      },
      "source": [
        "from keras import backend as K\n",
        "K.clear_session()"
      ],
      "execution_count": 28,
      "outputs": []
    },
    {
      "cell_type": "code",
      "metadata": {
        "colab": {
          "base_uri": "https://localhost:8080/"
        },
        "id": "_H4g7gesfYYx",
        "outputId": "4984b733-c6f6-4d2c-9555-ee423a580885"
      },
      "source": [
        "# 코드 6-43 양방향 LSTM을 훈련하고 평가하기\n",
        "model = Sequential()\n",
        "model.add(layers.Embedding(max_features, 32))\n",
        "model.add(layers.Bidirectional(layers.LSTM(32)))\n",
        "model.add(layers.Dense(1, activation='sigmoid'))\n",
        "\n",
        "model.compile(optimizer='rmsprop', loss='binary_crossentropy', metrics=['acc'])\n",
        "history = model.fit(x_train, y_train, epochs=10, batch_size=128, validation_split=0.2)"
      ],
      "execution_count": 29,
      "outputs": [
        {
          "output_type": "stream",
          "text": [
            "Epoch 1/10\n",
            "157/157 [==============================] - 11s 51ms/step - loss: 0.6476 - acc: 0.6245 - val_loss: 0.4708 - val_acc: 0.7808\n",
            "Epoch 2/10\n",
            "157/157 [==============================] - 7s 46ms/step - loss: 0.4372 - acc: 0.8203 - val_loss: 0.6854 - val_acc: 0.7566\n",
            "Epoch 3/10\n",
            "157/157 [==============================] - 7s 46ms/step - loss: 0.2742 - acc: 0.9030 - val_loss: 0.3003 - val_acc: 0.8894\n",
            "Epoch 4/10\n",
            "157/157 [==============================] - 7s 47ms/step - loss: 0.2336 - acc: 0.9200 - val_loss: 0.3412 - val_acc: 0.8816\n",
            "Epoch 5/10\n",
            "157/157 [==============================] - 7s 47ms/step - loss: 0.1990 - acc: 0.9311 - val_loss: 0.3075 - val_acc: 0.8908\n",
            "Epoch 6/10\n",
            "157/157 [==============================] - 7s 47ms/step - loss: 0.1825 - acc: 0.9359 - val_loss: 0.6830 - val_acc: 0.7784\n",
            "Epoch 7/10\n",
            "157/157 [==============================] - 7s 46ms/step - loss: 0.1802 - acc: 0.9384 - val_loss: 0.3825 - val_acc: 0.8712\n",
            "Epoch 8/10\n",
            "157/157 [==============================] - 7s 46ms/step - loss: 0.1341 - acc: 0.9574 - val_loss: 0.3680 - val_acc: 0.8752\n",
            "Epoch 9/10\n",
            "157/157 [==============================] - 7s 46ms/step - loss: 0.1336 - acc: 0.9542 - val_loss: 0.3480 - val_acc: 0.8812\n",
            "Epoch 10/10\n",
            "157/157 [==============================] - 7s 47ms/step - loss: 0.1173 - acc: 0.9612 - val_loss: 0.4337 - val_acc: 0.8526\n"
          ],
          "name": "stdout"
        }
      ]
    },
    {
      "cell_type": "markdown",
      "metadata": {
        "id": "MXBSIVyRfbm0"
      },
      "source": [
        "여기서는 88%정도의 검증 정확도를 가지며, 이전 절에 사용한 일반 LSTM보다 성능이 조금 더 높습니다. 하지만 모델 파라미터가 많아 보다 빨리 과대적합됩니다. 이제 이를 이용해 원 문제인 온도 예측 문제에 적용합니다."
      ]
    },
    {
      "cell_type": "code",
      "metadata": {
        "colab": {
          "base_uri": "https://localhost:8080/"
        },
        "id": "c96ty3TUfeZ2",
        "outputId": "587217dc-30e3-4654-df9f-e89255fd003c"
      },
      "source": [
        "# 코드 6-44 양방향 GRU 훈련하기\n",
        "from keras.models import Sequential\n",
        "from keras import layers\n",
        "from keras.optimizers import RMSprop\n",
        "\n",
        "model = Sequential()\n",
        "model.add(layers.Bidirectional(\n",
        "    layers.GRU(32), input_shape=(None, float_data.shape[-1])))\n",
        "model.add(layers.Dense(1))\n",
        "\n",
        "model.compile(optimizer=RMSprop(), loss='mae')\n",
        "history = model.fit_generator(train_gen,\n",
        "                              steps_per_epoch=500,\n",
        "                              epochs=40,\n",
        "                              validation_data=val_gen,\n",
        "                              validation_steps=val_steps)"
      ],
      "execution_count": null,
      "outputs": [
        {
          "output_type": "stream",
          "text": [
            "/usr/local/lib/python3.6/dist-packages/tensorflow/python/keras/engine/training.py:1844: UserWarning: `Model.fit_generator` is deprecated and will be removed in a future version. Please use `Model.fit`, which supports generators.\n",
            "  warnings.warn('`Model.fit_generator` is deprecated and '\n"
          ],
          "name": "stderr"
        },
        {
          "output_type": "stream",
          "text": [
            "Epoch 1/40\n",
            "500/500 [==============================] - 24s 43ms/step - loss: 0.3316 - val_loss: 0.2771\n",
            "Epoch 2/40\n",
            "500/500 [==============================] - 21s 42ms/step - loss: 0.2807 - val_loss: 0.2653\n",
            "Epoch 3/40\n",
            "500/500 [==============================] - 21s 42ms/step - loss: 0.2719 - val_loss: 0.2685\n",
            "Epoch 4/40\n",
            "500/500 [==============================] - 21s 42ms/step - loss: 0.2659 - val_loss: 0.2638\n",
            "Epoch 5/40\n",
            "500/500 [==============================] - 21s 42ms/step - loss: 0.2602 - val_loss: 0.2663\n",
            "Epoch 6/40\n",
            "500/500 [==============================] - 21s 42ms/step - loss: 0.2567 - val_loss: 0.2718\n",
            "Epoch 7/40\n",
            "500/500 [==============================] - 21s 42ms/step - loss: 0.2494 - val_loss: 0.2643\n",
            "Epoch 8/40\n",
            "500/500 [==============================] - 21s 42ms/step - loss: 0.2448 - val_loss: 0.2709\n",
            "Epoch 9/40\n",
            "500/500 [==============================] - 21s 43ms/step - loss: 0.2431 - val_loss: 0.2707\n",
            "Epoch 10/40\n",
            "500/500 [==============================] - 21s 42ms/step - loss: 0.2311 - val_loss: 0.2807\n",
            "Epoch 11/40\n",
            "500/500 [==============================] - 21s 42ms/step - loss: 0.2286 - val_loss: 0.2864\n",
            "Epoch 12/40\n",
            "500/500 [==============================] - 21s 42ms/step - loss: 0.2231 - val_loss: 0.2873\n",
            "Epoch 13/40\n",
            "500/500 [==============================] - 21s 42ms/step - loss: 0.2153 - val_loss: 0.2918\n",
            "Epoch 14/40\n",
            "500/500 [==============================] - 21s 42ms/step - loss: 0.2100 - val_loss: 0.3018\n",
            "Epoch 15/40\n",
            "500/500 [==============================] - 21s 42ms/step - loss: 0.2030 - val_loss: 0.3037\n",
            "Epoch 16/40\n",
            "500/500 [==============================] - 21s 42ms/step - loss: 0.1981 - val_loss: 0.3089\n",
            "Epoch 17/40\n",
            "500/500 [==============================] - 21s 42ms/step - loss: 0.1937 - val_loss: 0.3126\n",
            "Epoch 18/40\n",
            "500/500 [==============================] - 21s 42ms/step - loss: 0.1892 - val_loss: 0.3154\n",
            "Epoch 19/40\n",
            "500/500 [==============================] - 21s 42ms/step - loss: 0.1848 - val_loss: 0.3244\n",
            "Epoch 20/40\n",
            "500/500 [==============================] - 21s 42ms/step - loss: 0.1798 - val_loss: 0.3307\n",
            "Epoch 21/40\n",
            "500/500 [==============================] - 21s 42ms/step - loss: 0.1752 - val_loss: 0.3220\n",
            "Epoch 22/40\n",
            "500/500 [==============================] - 21s 42ms/step - loss: 0.1715 - val_loss: 0.3286\n",
            "Epoch 23/40\n",
            "500/500 [==============================] - 21s 43ms/step - loss: 0.1700 - val_loss: 0.3196\n",
            "Epoch 24/40\n",
            "500/500 [==============================] - 21s 43ms/step - loss: 0.1675 - val_loss: 0.3241\n",
            "Epoch 25/40\n",
            "500/500 [==============================] - 21s 42ms/step - loss: 0.1642 - val_loss: 0.3264\n",
            "Epoch 26/40\n",
            "500/500 [==============================] - 21s 42ms/step - loss: 0.1624 - val_loss: 0.3265\n",
            "Epoch 27/40\n",
            "500/500 [==============================] - 21s 42ms/step - loss: 0.1591 - val_loss: 0.3307\n",
            "Epoch 28/40\n",
            "500/500 [==============================] - 21s 42ms/step - loss: 0.1567 - val_loss: 0.3260\n",
            "Epoch 29/40\n",
            "500/500 [==============================] - 21s 42ms/step - loss: 0.1545 - val_loss: 0.3297\n",
            "Epoch 30/40\n",
            "500/500 [==============================] - 21s 43ms/step - loss: 0.1512 - val_loss: 0.3293\n",
            "Epoch 31/40\n",
            "500/500 [==============================] - 21s 43ms/step - loss: 0.1499 - val_loss: 0.3347\n",
            "Epoch 32/40\n",
            "500/500 [==============================] - 21s 42ms/step - loss: 0.1480 - val_loss: 0.3387\n",
            "Epoch 33/40\n",
            "500/500 [==============================] - 21s 42ms/step - loss: 0.1465 - val_loss: 0.3275\n",
            "Epoch 34/40\n",
            "500/500 [==============================] - 21s 43ms/step - loss: 0.1428 - val_loss: 0.3376\n",
            "Epoch 35/40\n",
            "500/500 [==============================] - 21s 42ms/step - loss: 0.1417 - val_loss: 0.3349\n",
            "Epoch 36/40\n",
            "500/500 [==============================] - 21s 42ms/step - loss: 0.1405 - val_loss: 0.3352\n",
            "Epoch 37/40\n",
            "500/500 [==============================] - 21s 42ms/step - loss: 0.1400 - val_loss: 0.3424\n",
            "Epoch 38/40\n",
            "500/500 [==============================] - 21s 43ms/step - loss: 0.1358 - val_loss: 0.3457\n",
            "Epoch 39/40\n",
            "500/500 [==============================] - 21s 42ms/step - loss: 0.1372 - val_loss: 0.3394\n",
            "Epoch 40/40\n",
            " 44/500 [=>............................] - ETA: 10s - loss: 0.1340"
          ],
          "name": "stdout"
        }
      ]
    },
    {
      "cell_type": "markdown",
      "metadata": {
        "id": "atHjU_affhnF"
      },
      "source": [
        "비슷한 수준의 결과를 내는 것을 알 수 있습니다. 왜냐면 여기서는 역방향 GRU가 좋은 성능을 내지 못하기 때문입니다.\n"
      ]
    }
  ]
}