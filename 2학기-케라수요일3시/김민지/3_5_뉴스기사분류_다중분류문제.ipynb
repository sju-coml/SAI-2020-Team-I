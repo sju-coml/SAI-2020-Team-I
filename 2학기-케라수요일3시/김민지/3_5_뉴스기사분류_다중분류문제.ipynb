{
  "nbformat": 4,
  "nbformat_minor": 0,
  "metadata": {
    "colab": {
      "name": "3.5 뉴스 기사 분류: 다중 분류 문제",
      "provenance": [],
      "collapsed_sections": [],
      "authorship_tag": "ABX9TyOuHNVNg5fThaar+e3+l7Rj",
      "include_colab_link": true
    },
    "kernelspec": {
      "name": "python3",
      "display_name": "Python 3"
    },
    "accelerator": "GPU"
  },
  "cells": [
    {
      "cell_type": "markdown",
      "metadata": {
        "id": "view-in-github",
        "colab_type": "text"
      },
      "source": [
        "<a href=\"https://colab.research.google.com/github/minnji88/DeepLearning2020/blob/master/3_5_%EB%89%B4%EC%8A%A4%EA%B8%B0%EC%82%AC%EB%B6%84%EB%A5%98_%EB%8B%A4%EC%A4%91%EB%B6%84%EB%A5%98%EB%AC%B8%EC%A0%9C.ipynb\" target=\"_parent\"><img src=\"https://colab.research.google.com/assets/colab-badge.svg\" alt=\"Open In Colab\"/></a>"
      ]
    },
    {
      "cell_type": "markdown",
      "metadata": {
        "id": "XGBYgF22y9jp"
      },
      "source": [
        "### 로이터 데이터셋"
      ]
    },
    {
      "cell_type": "code",
      "metadata": {
        "id": "SEG-1As0t-PI",
        "colab": {
          "base_uri": "https://localhost:8080/"
        },
        "outputId": "5bef971c-75bd-4128-c419-fd0bb37eb5ab"
      },
      "source": [
        "from keras.datasets import reuters\n",
        "# 가장 자주 등장하는 단어 10,000개로 제한\n",
        "(train_data, train_labels), (test_data, test_labels) = reuters.load_data(num_words = 10000)"
      ],
      "execution_count": 1,
      "outputs": [
        {
          "output_type": "stream",
          "text": [
            "Downloading data from https://storage.googleapis.com/tensorflow/tf-keras-datasets/reuters.npz\n",
            "2113536/2110848 [==============================] - 0s 0us/step\n"
          ],
          "name": "stdout"
        },
        {
          "output_type": "stream",
          "text": [
            "/usr/local/lib/python3.6/dist-packages/tensorflow/python/keras/datasets/reuters.py:148: VisibleDeprecationWarning: Creating an ndarray from ragged nested sequences (which is a list-or-tuple of lists-or-tuples-or ndarrays with different lengths or shapes) is deprecated. If you meant to do this, you must specify 'dtype=object' when creating the ndarray\n",
            "  x_train, y_train = np.array(xs[:idx]), np.array(labels[:idx])\n",
            "/usr/local/lib/python3.6/dist-packages/tensorflow/python/keras/datasets/reuters.py:149: VisibleDeprecationWarning: Creating an ndarray from ragged nested sequences (which is a list-or-tuple of lists-or-tuples-or ndarrays with different lengths or shapes) is deprecated. If you meant to do this, you must specify 'dtype=object' when creating the ndarray\n",
            "  x_test, y_test = np.array(xs[idx:]), np.array(labels[idx:])\n"
          ],
          "name": "stderr"
        }
      ]
    },
    {
      "cell_type": "code",
      "metadata": {
        "id": "CAvDTCa8zLys",
        "colab": {
          "base_uri": "https://localhost:8080/"
        },
        "outputId": "86701eda-72b6-4c2b-ac5b-6b5985fec574"
      },
      "source": [
        "len(train_data)"
      ],
      "execution_count": 2,
      "outputs": [
        {
          "output_type": "execute_result",
          "data": {
            "text/plain": [
              "8982"
            ]
          },
          "metadata": {
            "tags": []
          },
          "execution_count": 2
        }
      ]
    },
    {
      "cell_type": "code",
      "metadata": {
        "id": "Z2wo-U4_zeLX",
        "colab": {
          "base_uri": "https://localhost:8080/"
        },
        "outputId": "8998e2c7-f8ed-4d2d-f5ba-9abee79a3df8"
      },
      "source": [
        "len(test_data)"
      ],
      "execution_count": 3,
      "outputs": [
        {
          "output_type": "execute_result",
          "data": {
            "text/plain": [
              "2246"
            ]
          },
          "metadata": {
            "tags": []
          },
          "execution_count": 3
        }
      ]
    },
    {
      "cell_type": "code",
      "metadata": {
        "id": "4QqZQmSFzzso",
        "colab": {
          "base_uri": "https://localhost:8080/"
        },
        "outputId": "8e1d288d-355f-44ce-f127-45dec6d8300b"
      },
      "source": [
        "print(train_data[10])"
      ],
      "execution_count": 4,
      "outputs": [
        {
          "output_type": "stream",
          "text": [
            "[1, 245, 273, 207, 156, 53, 74, 160, 26, 14, 46, 296, 26, 39, 74, 2979, 3554, 14, 46, 4689, 4329, 86, 61, 3499, 4795, 14, 61, 451, 4329, 17, 12]\n"
          ],
          "name": "stdout"
        }
      ]
    },
    {
      "cell_type": "markdown",
      "metadata": {
        "id": "2n7H4ita0vm5"
      },
      "source": [
        "## 데이터 준비\n",
        "\n",
        "*레이블을 벡터로 바꾸는 방법*\n",
        "\n",
        "1. 레이블의 리스트를 정수 텐서로 변환\n",
        "2. 원-핫 인코딩 사용"
      ]
    },
    {
      "cell_type": "code",
      "metadata": {
        "id": "roh_kVjH0u2U"
      },
      "source": [
        "# 코드 3-14 데이터 인코딩하기\n",
        "import numpy as np\n",
        "\n",
        "def vectorize_sequences(sequences, dimension=10000):\n",
        "    results = np.zeros((len(sequences), dimension))\n",
        "    for i, sequence in enumerate(sequences):\n",
        "        results[i, sequence] = 1.\n",
        "    return results\n",
        "\n",
        "x_train = vectorize_sequences(train_data) # 훈련 데이터 벡터 변환\n",
        "x_test = vectorize_sequences(test_data) # 테스트 데이터 벡터 변환"
      ],
      "execution_count": 5,
      "outputs": []
    },
    {
      "cell_type": "markdown",
      "metadata": {
        "id": "lXMo0sHd1JV2"
      },
      "source": [
        "####  원-핫 인코딩"
      ]
    },
    {
      "cell_type": "code",
      "metadata": {
        "id": "3aKqx7u91IoT"
      },
      "source": [
        "# 레이블 벡터 변환\n",
        "from keras.utils.np_utils import to_categorical\n",
        "\n",
        "one_hot_train_labels = to_categorical(train_labels)\n",
        "one_hot_test_labels = to_categorical(test_labels)"
      ],
      "execution_count": 6,
      "outputs": []
    },
    {
      "cell_type": "markdown",
      "metadata": {
        "id": "kVP5i7sT2Pj1"
      },
      "source": [
        "### 모델 구성\n",
        "출력결과가 2개로 나누어지는 것이 아닌 46개라는 차이\n",
        "\n",
        "16차원은 46개의 데이터를 구분하지 못할 수 있으니 이번에는 64개의 유닛을 이용합니다.\n",
        "\n",
        "\n",
        "\n",
        "마지막 출력이 46입니다. 각 입력 샘플에 대해 46차원 벡터를 출력한다는 뜻입니다.\n",
        "softmax 활성화 함수를 사용하였습니다. 이는 46개의 출력 클래스에 대한 확률 분포를 출력하며, 총합은 1입니다.\n",
        "이런 분류에서 손실 함수는 categorical_crossentropy를 사용합니다. 이 함수는 두 확률 분포 사이의 거리를 측정하고, 확률 분포 사의 거리를 최소화하며 최적화 합니다.\n"
      ]
    },
    {
      "cell_type": "code",
      "metadata": {
        "id": "E-zvK4Is2R9d"
      },
      "source": [
        "# 코드 3-15 모델 정의하기\n",
        "from keras import models\n",
        "from keras import layers\n",
        "\n",
        "model = models.Sequential()\n",
        "model.add(layers.Dense(64, activation='relu', input_shape=(10000,)))\n",
        "model.add(layers.Dense(64, activation='relu'))\n",
        "model.add(layers.Dense(46, activation='softmax'))"
      ],
      "execution_count": 7,
      "outputs": []
    },
    {
      "cell_type": "code",
      "metadata": {
        "id": "tPzDkd-c4fbv"
      },
      "source": [
        "# 모델 컴파일하기\n",
        "model.compile(optimizer='rmsprop',\n",
        "              loss='categorical_crossentropy',\n",
        "              metrics=['accuracy'])"
      ],
      "execution_count": 8,
      "outputs": []
    },
    {
      "cell_type": "markdown",
      "metadata": {
        "id": "PY4HFiZr4l4d"
      },
      "source": [
        "## 훈련 검증"
      ]
    },
    {
      "cell_type": "code",
      "metadata": {
        "id": "3bkOuFGY4owQ"
      },
      "source": [
        "# 검증세트 준비하기\n",
        "x_val = x_train[:1000]\n",
        "partial_x_train = x_train[1000:]\n",
        "\n",
        "y_val = one_hot_train_labels[:1000]\n",
        "partial_y_train = one_hot_train_labels[1000:]"
      ],
      "execution_count": 9,
      "outputs": []
    },
    {
      "cell_type": "code",
      "metadata": {
        "id": "tHXOGyDh4vZu",
        "colab": {
          "base_uri": "https://localhost:8080/"
        },
        "outputId": "81d756d6-bfc5-482c-b459-29dcc4036eab"
      },
      "source": [
        "# 코드 3-18 모델 훈련하기\n",
        "history = model.fit(partial_x_train,\n",
        "                    partial_y_train,\n",
        "                    epochs=20,\n",
        "                    batch_size=512,\n",
        "                    validation_data=(x_val, y_val))"
      ],
      "execution_count": 10,
      "outputs": [
        {
          "output_type": "stream",
          "text": [
            "Epoch 1/20\n",
            "16/16 [==============================] - 3s 38ms/step - loss: 3.1047 - accuracy: 0.4161 - val_loss: 1.7580 - val_accuracy: 0.6300\n",
            "Epoch 2/20\n",
            "16/16 [==============================] - 0s 16ms/step - loss: 1.5292 - accuracy: 0.6829 - val_loss: 1.3577 - val_accuracy: 0.6950\n",
            "Epoch 3/20\n",
            "16/16 [==============================] - 0s 15ms/step - loss: 1.1314 - accuracy: 0.7532 - val_loss: 1.1592 - val_accuracy: 0.7450\n",
            "Epoch 4/20\n",
            "16/16 [==============================] - 0s 15ms/step - loss: 0.8882 - accuracy: 0.8109 - val_loss: 1.0624 - val_accuracy: 0.7660\n",
            "Epoch 5/20\n",
            "16/16 [==============================] - 0s 15ms/step - loss: 0.7185 - accuracy: 0.8456 - val_loss: 0.9980 - val_accuracy: 0.7780\n",
            "Epoch 6/20\n",
            "16/16 [==============================] - 0s 15ms/step - loss: 0.5907 - accuracy: 0.8769 - val_loss: 0.9208 - val_accuracy: 0.8060\n",
            "Epoch 7/20\n",
            "16/16 [==============================] - 0s 15ms/step - loss: 0.4488 - accuracy: 0.9078 - val_loss: 0.9055 - val_accuracy: 0.8150\n",
            "Epoch 8/20\n",
            "16/16 [==============================] - 0s 15ms/step - loss: 0.3580 - accuracy: 0.9270 - val_loss: 0.8864 - val_accuracy: 0.8130\n",
            "Epoch 9/20\n",
            "16/16 [==============================] - 0s 15ms/step - loss: 0.3078 - accuracy: 0.9353 - val_loss: 0.8735 - val_accuracy: 0.8270\n",
            "Epoch 10/20\n",
            "16/16 [==============================] - 0s 15ms/step - loss: 0.2548 - accuracy: 0.9447 - val_loss: 0.8794 - val_accuracy: 0.8250\n",
            "Epoch 11/20\n",
            "16/16 [==============================] - 0s 16ms/step - loss: 0.2025 - accuracy: 0.9531 - val_loss: 0.9262 - val_accuracy: 0.8120\n",
            "Epoch 12/20\n",
            "16/16 [==============================] - 0s 16ms/step - loss: 0.1925 - accuracy: 0.9541 - val_loss: 0.9297 - val_accuracy: 0.8120\n",
            "Epoch 13/20\n",
            "16/16 [==============================] - 0s 22ms/step - loss: 0.1655 - accuracy: 0.9570 - val_loss: 0.9227 - val_accuracy: 0.8130\n",
            "Epoch 14/20\n",
            "16/16 [==============================] - 0s 15ms/step - loss: 0.1413 - accuracy: 0.9605 - val_loss: 0.9411 - val_accuracy: 0.8140\n",
            "Epoch 15/20\n",
            "16/16 [==============================] - 0s 15ms/step - loss: 0.1426 - accuracy: 0.9569 - val_loss: 0.9717 - val_accuracy: 0.8080\n",
            "Epoch 16/20\n",
            "16/16 [==============================] - 0s 15ms/step - loss: 0.1244 - accuracy: 0.9577 - val_loss: 1.0137 - val_accuracy: 0.8020\n",
            "Epoch 17/20\n",
            "16/16 [==============================] - 0s 15ms/step - loss: 0.1115 - accuracy: 0.9624 - val_loss: 1.0291 - val_accuracy: 0.8050\n",
            "Epoch 18/20\n",
            "16/16 [==============================] - 0s 15ms/step - loss: 0.1144 - accuracy: 0.9617 - val_loss: 1.0061 - val_accuracy: 0.8140\n",
            "Epoch 19/20\n",
            "16/16 [==============================] - 0s 14ms/step - loss: 0.0980 - accuracy: 0.9637 - val_loss: 1.0028 - val_accuracy: 0.8160\n",
            "Epoch 20/20\n",
            "16/16 [==============================] - 0s 15ms/step - loss: 0.1000 - accuracy: 0.9634 - val_loss: 1.0490 - val_accuracy: 0.8040\n"
          ],
          "name": "stdout"
        }
      ]
    },
    {
      "cell_type": "code",
      "metadata": {
        "id": "JG4BL5WE4vc4",
        "colab": {
          "base_uri": "https://localhost:8080/",
          "height": 312
        },
        "outputId": "8a1dab29-31e4-4885-b476-5f23433cc58e"
      },
      "source": [
        "# 훈련과 검증 손실 그리기\n",
        "import matplotlib.pyplot as plt\n",
        "\n",
        "loss = history.history['loss']\n",
        "val_loss = history.history['val_loss']\n",
        "\n",
        "epochs = range(1, len(loss) + 1)\n",
        "\n",
        "plt.plot(epochs, loss, 'bo', label='Training loss')\n",
        "plt.plot(epochs, val_loss, 'b', label='Validation loss')\n",
        "plt.title('Training and validation loss')\n",
        "plt.xlabel('Epochs')\n",
        "plt.ylabel('Loss')\n",
        "plt.legend()\n",
        "\n",
        "plt.show()\n",
        "print(epochs)"
      ],
      "execution_count": 11,
      "outputs": [
        {
          "output_type": "display_data",
          "data": {
            "image/png": "[encoded data removed]",
            "text/plain": [
              "<Figure size 432x288 with 1 Axes>"
            ]
          },
          "metadata": {
            "tags": [],
            "needs_background": "light"
          }
        },
        {
          "output_type": "stream",
          "text": [
            "range(1, 21)\n"
          ],
          "name": "stdout"
        }
      ]
    },
    {
      "cell_type": "code",
      "metadata": {
        "id": "vzw4XWTg4vWa",
        "colab": {
          "base_uri": "https://localhost:8080/",
          "height": 295
        },
        "outputId": "8f98dbfa-08c1-4033-e2e6-caa9ed3ecb83"
      },
      "source": [
        "# 훈련과 검증 정확도\n",
        "plt.clf() #그래프를 초기화합니다.\n",
        "\n",
        "acc = history.history['accuracy']\n",
        "val_acc = history.history['val_accuracy']\n",
        "\n",
        "plt.plot(epochs, acc, 'bo', label='Training acc')\n",
        "plt.plot(epochs, val_acc, 'b', label='Validation acc')\n",
        "plt.title('Training and validation accuracy')\n",
        "plt.xlabel('Epochs')\n",
        "plt.ylabel('Accuracy')\n",
        "plt.legend()\n",
        "\n",
        "plt.show()"
      ],
      "execution_count": 12,
      "outputs": [
        {
          "output_type": "display_data",
          "data": {
            "image/png": "[encoded data removed]",
            "text/plain": [
              "<Figure size 432x288 with 1 Axes>"
            ]
          },
          "metadata": {
            "tags": [],
            "needs_background": "light"
          }
        }
      ]
    },
    {
      "cell_type": "code",
      "metadata": {
        "id": "w3v9fEDp5jkG",
        "colab": {
          "base_uri": "https://localhost:8080/"
        },
        "outputId": "f975058d-be49-49d9-dbac-dd1072271f14"
      },
      "source": [
        "# 아홉번째 에포크 이후 과대적합 발생\n",
        "# 코드 3-21 모델을 처음부터 다시 훈련하기\n",
        "model = models.Sequential()\n",
        "model.add(layers.Dense(64, activation='relu', input_shape=(10000,)))\n",
        "model.add(layers.Dense(64, activation='relu'))\n",
        "model.add(layers.Dense(46, activation='softmax'))\n",
        "\n",
        "model.compile(optimizer='rmsprop',\n",
        "              loss='categorical_crossentropy',\n",
        "              metrics=['accuracy'])\n",
        "\n",
        "model.fit(partial_x_train,\n",
        "          partial_y_train,\n",
        "          epochs=9,\n",
        "          batch_size=512,\n",
        "          validation_data=(x_val, y_val))\n",
        "\n",
        "results = model.evaluate(x_test, one_hot_test_labels)\n"
      ],
      "execution_count": 13,
      "outputs": [
        {
          "output_type": "stream",
          "text": [
            "Epoch 1/9\n",
            "16/16 [==============================] - 1s 23ms/step - loss: 3.0240 - accuracy: 0.4473 - val_loss: 1.6442 - val_accuracy: 0.6470\n",
            "Epoch 2/9\n",
            "16/16 [==============================] - 0s 15ms/step - loss: 1.4530 - accuracy: 0.6855 - val_loss: 1.2756 - val_accuracy: 0.7230\n",
            "Epoch 3/9\n",
            "16/16 [==============================] - 0s 16ms/step - loss: 1.0739 - accuracy: 0.7658 - val_loss: 1.1199 - val_accuracy: 0.7500\n",
            "Epoch 4/9\n",
            "16/16 [==============================] - 0s 16ms/step - loss: 0.8307 - accuracy: 0.8186 - val_loss: 1.0403 - val_accuracy: 0.7750\n",
            "Epoch 5/9\n",
            "16/16 [==============================] - 0s 15ms/step - loss: 0.6454 - accuracy: 0.8633 - val_loss: 0.9635 - val_accuracy: 0.7930\n",
            "Epoch 6/9\n",
            "16/16 [==============================] - 0s 15ms/step - loss: 0.5137 - accuracy: 0.8909 - val_loss: 0.9193 - val_accuracy: 0.8060\n",
            "Epoch 7/9\n",
            "16/16 [==============================] - 0s 16ms/step - loss: 0.4271 - accuracy: 0.9111 - val_loss: 0.9044 - val_accuracy: 0.8110\n",
            "Epoch 8/9\n",
            "16/16 [==============================] - 0s 15ms/step - loss: 0.3368 - accuracy: 0.9327 - val_loss: 0.8974 - val_accuracy: 0.8130\n",
            "Epoch 9/9\n",
            "16/16 [==============================] - 0s 14ms/step - loss: 0.2661 - accuracy: 0.9391 - val_loss: 0.9112 - val_accuracy: 0.8060\n",
            "71/71 [==============================] - 0s 3ms/step - loss: 1.0026 - accuracy: 0.7836\n"
          ],
          "name": "stdout"
        }
      ]
    },
    {
      "cell_type": "code",
      "metadata": {
        "id": "KevJ8hQW6Ej1",
        "colab": {
          "base_uri": "https://localhost:8080/"
        },
        "outputId": "ba9332c2-bb74-462a-b48a-1d5f03ff560f"
      },
      "source": [
        "results     # 78% 정확도 달성"
      ],
      "execution_count": 14,
      "outputs": [
        {
          "output_type": "execute_result",
          "data": {
            "text/plain": [
              "[1.002608299255371, 0.7836152911186218]"
            ]
          },
          "metadata": {
            "tags": []
          },
          "execution_count": 14
        }
      ]
    },
    {
      "cell_type": "markdown",
      "metadata": {
        "id": "zU4FOnfT6cBS"
      },
      "source": [
        "### 새로운 데이터에 대해 예측하기"
      ]
    },
    {
      "cell_type": "code",
      "metadata": {
        "id": "ZdXyt5iO6Hjk"
      },
      "source": [
        "predictions = model.predict(x_test)"
      ],
      "execution_count": 15,
      "outputs": []
    },
    {
      "cell_type": "code",
      "metadata": {
        "id": "b6sAekD86nJI",
        "colab": {
          "base_uri": "https://localhost:8080/"
        },
        "outputId": "aa1ca428-95dc-463a-f6ab-a17cf2a2589d"
      },
      "source": [
        "predictions[0].shape"
      ],
      "execution_count": 16,
      "outputs": [
        {
          "output_type": "execute_result",
          "data": {
            "text/plain": [
              "(46,)"
            ]
          },
          "metadata": {
            "tags": []
          },
          "execution_count": 16
        }
      ]
    },
    {
      "cell_type": "code",
      "metadata": {
        "id": "f5ewvI3a6qSb",
        "colab": {
          "base_uri": "https://localhost:8080/"
        },
        "outputId": "cc31d8bd-e123-4696-d3a5-bca26d7a9d18"
      },
      "source": [
        "np.sum(predictions[0])"
      ],
      "execution_count": 17,
      "outputs": [
        {
          "output_type": "execute_result",
          "data": {
            "text/plain": [
              "1.0000001"
            ]
          },
          "metadata": {
            "tags": []
          },
          "execution_count": 17
        }
      ]
    },
    {
      "cell_type": "code",
      "metadata": {
        "id": "ZMQ38P4G6ume",
        "colab": {
          "base_uri": "https://localhost:8080/"
        },
        "outputId": "85f24461-66ea-45e2-eca6-13b9eef477c6"
      },
      "source": [
        "np.argmax(predictions[0])"
      ],
      "execution_count": 18,
      "outputs": [
        {
          "output_type": "execute_result",
          "data": {
            "text/plain": [
              "3"
            ]
          },
          "metadata": {
            "tags": []
          },
          "execution_count": 18
        }
      ]
    }
  ]
}