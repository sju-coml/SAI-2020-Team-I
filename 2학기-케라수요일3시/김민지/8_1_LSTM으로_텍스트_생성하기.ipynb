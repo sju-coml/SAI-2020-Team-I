{
  "nbformat": 4,
  "nbformat_minor": 0,
  "metadata": {
    "colab": {
      "name": "8_1 LSTM으로 텍스트 생성하기",
      "provenance": [],
      "collapsed_sections": [],
      "authorship_tag": "ABX9TyNUA1MysplzCbo41r0cPg24",
      "include_colab_link": true
    },
    "kernelspec": {
      "name": "python3",
      "display_name": "Python 3"
    }
  },
  "cells": [
    {
      "cell_type": "markdown",
      "metadata": {
        "id": "view-in-github",
        "colab_type": "text"
      },
      "source": [
        "<a href=\"https://colab.research.google.com/github/minnji88/DeepLearning2020/blob/master/8_1_LSTM%EC%9C%BC%EB%A1%9C_%ED%85%8D%EC%8A%A4%ED%8A%B8_%EC%83%9D%EC%84%B1%ED%95%98%EA%B8%B0.ipynb\" target=\"_parent\"><img src=\"https://colab.research.google.com/assets/colab-badge.svg\" alt=\"Open In Colab\"/></a>"
      ]
    },
    {
      "cell_type": "markdown",
      "metadata": {
        "id": "QBYoB1BCM3-l"
      },
      "source": [
        "## 8.1.4 글자 수준의 LSTM 텍스트 생성 모델 구현\n",
        "\n",
        "언어 모델을 학습하기 위해 많은 텍스트 데이터가 필요합니다. 책에서는 19세기 후반의 독일 철학자 니체의 글(영문)을 이용합니다. 학습할 언어 모델은 일반적인 영어 모델이 아니라 니체의 문체와 특정 주체를 따르는 모델일 것입니다."
      ]
    },
    {
      "cell_type": "markdown",
      "metadata": {
        "id": "IIbJxmkDNJgf"
      },
      "source": [
        "### 데이터 전처리\n",
        "\n",
        "- 먼저 말뭉치를 내려받아 소문자로 바꿉니다."
      ]
    },
    {
      "cell_type": "code",
      "metadata": {
        "id": "gCalo8ieMwwv",
        "colab": {
          "base_uri": "https://localhost:8080/"
        },
        "outputId": "818346e8-a50b-4b33-ae20-c1b4df183a4d"
      },
      "source": [
        "# 코드 8-2 원본 텍스트 파일을 내려받아 파싱하기\n",
        "import keras\n",
        "import numpy as np\n",
        "\n",
        "path = keras.utils.get_file('nietzsche.txt', origin='https://s3.amazonaws.com/text-datasets/nietzsche.txt')\n",
        "text = open(path).read().lower()\n",
        "print('length  of corpus : ', len(text))"
      ],
      "execution_count": null,
      "outputs": [
        {
          "output_type": "stream",
          "text": [
            "length  of corpus :  600893\n"
          ],
          "name": "stdout"
        }
      ]
    },
    {
      "cell_type": "markdown",
      "metadata": {
        "id": "utQVBypLN5AT"
      },
      "source": [
        "그 다음 maxlen 길이를 가진 시퀀스를 중복하여 추출합니다. 추출된 시퀀스를 원-핫 인코딩으로 변환하고 (sequences, maxlen, unique_characters)인 3D 넘파이 배열 x로 합칩니다. 동시에 훈련 샘플에 상응하는 타깃을 담은 배열 y를 준비합니다. 타깃은 추출된 시퀀스 다음에 오는 원-핫 인코딩된 글자입니다."
      ]
    },
    {
      "cell_type": "code",
      "metadata": {
        "id": "PyeKxZtkNsPr",
        "colab": {
          "base_uri": "https://localhost:8080/"
        },
        "outputId": "0dd7c08c-57ca-4fd3-8b3e-b96ce6c135e9"
      },
      "source": [
        "# 코드 8-3 글자 시퀀스 벡터화하기\n",
        "\n",
        "# 60개의 글자로 된 시퀀스를 추출합니다\n",
        "maxlen = 60\n",
        "step = 3    # 세 글자씩 건너뛰면서 새로운 시퀀스를 샘플링합니다.\n",
        "\n",
        "sentences = [] # 추출한 시퀀스를 담을 리스트\n",
        "next_chars = [] # 타깃을 담을 리스트\n",
        "\n",
        "for i in range(0, len(text) - maxlen, step):\n",
        "  sentences.append(text[i:i+maxlen])\n",
        "  next_chars.append(text[i+maxlen])\n",
        "\n",
        "print('Number of sequences : ', len(sentences))\n",
        "\n",
        "chars = sorted(list(set(text))) # 말뭉치에서 고유한 글자를 담은 리스트\n",
        "print('고유한 글자: ', len(chars))\n",
        "# chars 리스트에 있는 글자와 글자의 인덱스를 매핑한 딕셔너리\n",
        "char_indices = dict((char, chars.index(char)) for char in chars)\n",
        "\n",
        "print('Vectorize...')\n",
        "# 글자를 원-핫 인코딩하여 0과 1의 이진 배열로 바꿉니다.\n",
        "x = np.zeros((len(sentences),maxlen, len(chars)), dtype=np.bool)\n",
        "y = np.zeros((len(sentences), len(chars)), dtype=np.bool)\n",
        "for i, sentence in enumerate(sentences):\n",
        "  for t, char in enumerate(sentence):\n",
        "    x[i, t, char_indices[char]] = 1\n",
        "  y[i, char_indices[next_chars[i]]] = 1"
      ],
      "execution_count": null,
      "outputs": [
        {
          "output_type": "stream",
          "text": [
            "Number of sequences :  200278\n",
            "고유한 글자:  57\n",
            "Vectorize...\n"
          ],
          "name": "stdout"
        }
      ]
    },
    {
      "cell_type": "markdown",
      "metadata": {
        "id": "sz52oVK9aGl-"
      },
      "source": [
        "## 네트워크 구성\n",
        "\n",
        "이 네트워크는 하나의 LSTM 층과 그 뒤에 Dense 분류기가 뒤따릅니다. 분류기는 가능한 모든 글자에 대한 소프트맥스 출력을 만듭니다. 순환 신경망이 시퀀스 데이터를 생성하는 유일한 방법은 아닙니다. 최근에는 1D 컨브넷도 이런 작업에 아주 잘 들어맞는다는 것이 밝혀졌습니다. (6장)"
      ]
    },
    {
      "cell_type": "code",
      "metadata": {
        "id": "Z5jwT-WTRQCv"
      },
      "source": [
        "# 코드 8-4 다음 글자를 예측하기 위한 단일 LSTM 모델\n",
        "from keras import layers\n",
        "\n",
        "model = keras.models.Sequential()\n",
        "model.add(layers.LSTM(128, input_shape=(maxlen, len(chars))))\n",
        "model.add(layers.Dense(len(chars), activation='softmax'))"
      ],
      "execution_count": null,
      "outputs": []
    },
    {
      "cell_type": "markdown",
      "metadata": {
        "id": "u18u9HxUuEVc"
      },
      "source": [
        "타깃이 원-핫 인코딩되어 있기 때문에 모델을 훈련하기 위해 categorical_crossentropy 손실을 사용합니다.\n",
        "\n",
        "categorical_crossentropy : 네트워크(신경망)가 출력한 확률 분포와 진짜 레이블의 분포 사이의 거리, 두 확률 분포 사이의 거리를 측정한다.\n",
        "\n",
        "두 분포 사이의 거리를 최소화하면서 진짜 레이블에 가능한 가까운 출력을 내도록 모델을 훈련한다."
      ]
    },
    {
      "cell_type": "code",
      "metadata": {
        "id": "1cudyiUtt1Vk"
      },
      "source": [
        "# 코드 8-5 모델 컴파일 설정하기\n",
        "optimizer = keras.optimizers.RMSprop(lr=0.01)\n",
        "model.compile(loss='categorical_crossentropy', optimizer=optimizer)"
      ],
      "execution_count": null,
      "outputs": []
    },
    {
      "cell_type": "markdown",
      "metadata": {
        "id": "BMrEUU5YwAPF"
      },
      "source": [
        "## 언어 모델 훈련과 샘플링\n",
        "훈련된 모델과 시드(seed)로 쓰일 간단한 텍스트가 주어지면 다음과 같이 반복하여 새로운 텍스트를 생성할 수 있습니다.\n",
        "\n",
        "지금까지 생성된 텍스트를 주입하여 모델에서 다음 글자에 대한 확률 분포를 뽑습니다.\n",
        "특정 온도로 이 확률 분포의 가중치를 조정합니다.\n",
        "가중치가 조정된 분포에서 무작위로 새로운 글자를 샘플링합니다.\n",
        "새로운 글자를 생성된 텍스트의 끝에 추가합니다.\n",
        "다음 코드는 모델에서 나온 원본 확률 분포의 가중치를 조정하고 새로운 글자의 인덱스를 추출합니다."
      ]
    },
    {
      "cell_type": "code",
      "metadata": {
        "id": "1K-1rLyLu4Ww"
      },
      "source": [
        "# 코드 8-6 모델의 예측이 주어졌을 떄 새로운 글자를 샘플링하는 함수\n",
        "def sample(preds, temperature=1.0):\n",
        "  preds = np.asarray(preds).astype('float64')\n",
        "  preds = np.log(preds) / temperature\n",
        "  exp_preds = np.exp(preds)\n",
        "  preds = exp_preds / np.sum(exp_preds)\n",
        "  probas = np.random.multinomial(1, preds, 1)\n",
        "  return np.argmax(probas)"
      ],
      "execution_count": null,
      "outputs": []
    },
    {
      "cell_type": "markdown",
      "metadata": {
        "id": "QhZyaPMZxCNC"
      },
      "source": [
        "마지막으로 반복적으로 훈련하고 텍스트를 생성하는 반복문입니다. 에포크마다 학습이 끝난 후 여러 가지 온도를 사용하여 텍스트를 사용합니다. 이렇게 하면 모델이 수렴하면서 생성된 텍스트를 어떻게 진화하는지 볼 수 있습니다. 온도가 샘플링 전략에 미치는 영향도 보여줍니다."
      ]
    },
    {
      "cell_type": "code",
      "metadata": {
        "id": "ISYJYx1pw2zm",
        "colab": {
          "base_uri": "https://localhost:8080/"
        },
        "outputId": "16028838-dbc9-4fd3-8e34-966eeccd83ac"
      },
      "source": [
        "# 코드 8-7 텍스트 생성 루프\n",
        "import random\n",
        "import sys\n",
        "\n",
        "random.seed(42)\n",
        "start_index = random.randint(0, len(text) - maxlen - 1)\n",
        "\n",
        "# 60 에포크 동안 모델을 훈련합니다\n",
        "# for epoch in range(1, 60):\n",
        "for epoch in range(1, 10):\n",
        "    print('에포크', epoch)\n",
        "    model.fit(x, y, batch_size=128, epochs=1) # 데이터에서 한 번만 반복해서 모델을 학습합니다\n",
        "\n",
        "    # 무작위로 시드 텍스트를 선택합니다\n",
        "    seed_text = text[start_index: start_index + maxlen]\n",
        "    print('--- 시드 텍스트: \"' + seed_text + '\"')\n",
        "\n",
        "    # 여러가지 샘플링 온도를 시도합니다\n",
        "    for temperature in [0.2, 0.5, 1.0, 1.2]:\n",
        "        print('------ 온도:', temperature)\n",
        "        generated_text = seed_text\n",
        "        sys.stdout.write(generated_text)\n",
        "\n",
        "        # 시드 텍스트에서 시작해서 400개의 글자를 생성합니다\n",
        "        for i in range(400):\n",
        "            # 지금까지 생성된 글자를 원-핫 인코딩으로 바꿉니다\n",
        "            sampled = np.zeros((1, maxlen, len(chars)))\n",
        "            for t, char in enumerate(generated_text):\n",
        "                sampled[0, t, char_indices[char]] = 1.\n",
        "\n",
        "            # 다음 글자를 샘플링합니다\n",
        "            preds = model.predict(sampled, verbose=0)[0]\n",
        "            next_index = sample(preds, temperature)\n",
        "            next_char = chars[next_index]\n",
        "\n",
        "            generated_text += next_char\n",
        "            generated_text = generated_text[1:]\n",
        "\n",
        "            sys.stdout.write(next_char)\n",
        "            sys.stdout.flush()\n",
        "        print()"
      ],
      "execution_count": null,
      "outputs": [
        {
          "output_type": "stream",
          "text": [
            "에포크 1\n",
            "1565/1565 [==============================] - 261s 165ms/step - loss: 2.2450\n",
            "--- 시드 텍스트: \"the slowly ascending ranks and classes, in which,\n",
            "through fo\"\n",
            "------ 온도: 0.2\n",
            "the slowly ascending ranks and classes, in which,\n",
            "through for the possible the partion of the pain and instinction of the supposition of the restince of the pain of the same the partion of such a man is the same the constious and the paste itself, the passion of the partion of the pain of the suppere of the same the believe of the pains and instince of the pain of the self--the spirit and the sould and the passion of the passion of the partion of the pain \n",
            "------ 온도: 0.5\n",
            "the slowly ascending ranks and classes, in which,\n",
            "through for to the ratrey and lately the the conscience, and the restince of the devilation\n",
            "and the be knows would of the enessions of himself of the all the have distruscity and virtue the resurding and is so late the rase of passion of the insures of the self-the conscience of the stranges of the church in which and instince and which the most spepist of the inspirits of altory of the science is for simpo\n",
            "------ 온도: 1.0\n",
            "the slowly ascending ranks and classes, in which,\n",
            "through for devilness\" which to saith--and alsoulfan at paimed\n",
            "and of vifulnce, tatectian\n",
            "fli1, hus out\n",
            "and vonlings, the kleed of the you dopers perfoss. a pares at if the\n",
            "spivily of fat would\n",
            "only ethem, bundery expuries in the suis. it baterual purtoes\n",
            "than a desposte, to be in-ivery de: that may lespomicating paeritues, a intruect.\n",
            "\n",
            "1.. the cluss\n",
            "live who unousnonist the funtuund\n",
            "spight that the of the \n",
            "------ 온도: 1.2\n",
            "the slowly ascending ranks and classes, in which,\n",
            "through for is orse te); tuity tomam over phalnsfond of insuly that,  im wart ink=nacfulity the the neuland bofuld than arvits, (nows o would cans(ot juct with the mas\"? the namital\n",
            "oyp of alto, the\n",
            "dejustly targis at  -with also-tatatiab. the\n",
            "thougn's lage as spiam-whus a salcounceni), the\n",
            "enduter,,\n",
            "the\n",
            "haobs than\n",
            "so which clas\n",
            "if tow.\"-su quess of such. wos\n",
            "leis spickite and nalekyns ethings\n",
            "afpadhing the\n",
            "에포크 2\n",
            "1565/1565 [==============================] - 259s 165ms/step - loss: 1.6150\n",
            "--- 시드 텍스트: \"the slowly ascending ranks and classes, in which,\n",
            "through fo\"\n",
            "------ 온도: 0.2\n",
            "the slowly ascending ranks and classes, in which,\n",
            "through for the consider that the stringes that the perhaps the stringes and in the stringer and in the sense the stand and the string the same and the stringer and in the stringer and the stringes and the stringer and the considically and in the conscience of the string that the individualical soul that the standamental the subject of the sense the subject of the sense the soul and the sense the subject th\n",
            "------ 온도: 0.5\n",
            "the slowly ascending ranks and classes, in which,\n",
            "through for the strong the propession with some could he considication and cause in like the stand and indignous reading, here spirit of the consequented and in the singer and the stronger the also namile latter do nothing in artian the conscience. the seem that the way to the sundly the great the sense the conscience of here man or in sign of the does and in the sense in the langered and which the rach the\n",
            "------ 온도: 1.0\n",
            "the slowly ascending ranks and classes, in which,\n",
            "through found and \"likentuness straintual that rights that\n",
            "ectamentally, thas bady and spoid toavands must man causuren, elent and oblesing and methocies,\n",
            "on manked and the ocjusugesmod, too the\n",
            "destingemon betrage is evalse with again them\n",
            "lacking something in, unmrompanding itself culture brings outworle\n",
            "things with thin\n",
            " their dangerour piotreedved nations that\n",
            "which which has also languto commoragadings\n",
            "------ 온도: 1.2\n",
            "the slowly ascending ranks and classes, in which,\n",
            "through for atteptisidg that\n",
            "order, falunals,\n",
            "as\n",
            "but how readed here the hald nawarts\" just ridblisutousm\" expircements and that (veen mopkand elt-pesenticleored she simiteed, europerved here alliscered\n",
            "travian and individualiddy onisw-other the s(migrosally most specilamences by\n",
            "lightene, \n",
            "i certain ie all\". susured nature,\n",
            "selfry nees to  agn to nothing this things, how i \"ubsulity the ral shan ills inter\n",
            "에포크 3\n",
            "1565/1565 [==============================] - 258s 165ms/step - loss: 1.5311\n",
            "--- 시드 텍스트: \"the slowly ascending ranks and classes, in which,\n",
            "through fo\"\n",
            "------ 온도: 0.2\n",
            "the slowly ascending ranks and classes, in which,\n",
            "through for the are the sense of the spirit of the artists of the exist the most propartion of the expression of the spirit and conscious of the man and the reason of the world and all conscious of the most propartion of the success of the success of the way the world the expression of the disposing of the way the success of the success of the profound the presention of the man and the morality, and and the\n",
            "------ 온도: 0.5\n",
            "the slowly ascending ranks and classes, in which,\n",
            "through for injust the expraracted in the elevated the sangrines, and which the objection of difference of which the will crielty, which are the good the are opposing has a mither the god, and all in the explanations itself and in the most with the expreasing as man be success of the man and different considerate of the hight of the world with self-conscious of a while from the supers of the rest in the gen\n",
            "------ 온도: 1.0\n",
            "the slowly ascending ranks and classes, in which,\n",
            "through for the success of the fact thees: doen mirmar the\n",
            "cageing of \"is the\n",
            "variare accord two views wands--mustephys, extraceme.\" of science. the phjessicponhise comlunic of presensifically for man in predent could claiss, twind whichdeed by sw; the unclucaus exprehing into the unconduct in sharocously\" daring imparity, the \"god, nople human\n",
            "to\n",
            "the awheph of germaning therefore, prohigion: and the case.\n",
            "\n",
            "------ 온도: 1.2\n",
            "the slowly ascending ranks and classes, in which,\n",
            "through forcier this myself, erdeart intempedan\n",
            "involse\n",
            "love to concernionness.--a bold, our leters himself that success, yoseld tange invisess: theirw'es obcumes.\n",
            "\n",
            "by\n",
            "the\n",
            "lawme.-lequable mury, become the\n",
            "ompance\n",
            "their\n",
            "man byineimamily peled ous underst of plicaus the ripling setinkso-wises we which the spirit is thil  and a also and se, beloie tooarle\", or moral an interpees withiung of \"them deam an\n",
            "expra\n",
            "에포크 4\n",
            "1565/1565 [==============================] - 258s 165ms/step - loss: 1.4845\n",
            "--- 시드 텍스트: \"the slowly ascending ranks and classes, in which,\n",
            "through fo\"\n",
            "------ 온도: 0.2\n",
            "the slowly ascending ranks and classes, in which,\n",
            "through for the sense of the sense of the everything the morality of the sense of the sense of the sense of the sense of the existence of the called the sense of the sense of the sense of the sense of the superition is a sense of the sense of the sense of the sense of the care of the sense of the sense of the same that the sense of the sense of the sense of the sense of the sense of the sense of the sense o\n",
            "------ 온도: 0.5\n",
            "the slowly ascending ranks and classes, in which,\n",
            "through for the rest in the taken as such any moralistic problem that a treat in the same this seriousness of the case the falselved to the distrust of a destruction of the must restraine to the sup. the reversely as view and science evised that the emotions of one is this senses to superity of the far the sense of distings and alive to in seems through our has one has seeming with stronging of the sense of\n",
            "------ 온도: 1.0\n",
            "the slowly ascending ranks and classes, in which,\n",
            "through for a go\n",
            "telled desisioled, langualwilded estronating and suid in it, quite\n",
            "his far and remains, could has \"hexe of the this consciences of howes of the effect dastmings, \"thrie disqual presting in\n",
            "this ascented estent is any highr-volorten to bained of agrast\"\n",
            "of less ahay fouthiegh of her you so doo, the\n",
            "sciented, of\n",
            "godd the metaphysilised for say, to him tree philosophiris--at heart some when th\n",
            "------ 온도: 1.2\n",
            "the slowly ascending ranks and classes, in which,\n",
            "through for may for everythone rupes in niend\n",
            "everything immuculated\n",
            "\"our cavilace and rearty ward into midut and and ta, good,\n",
            "like\n",
            "is it\"\n",
            "allovly masce in such writerporicinarly ed in europes to our\n",
            "sech as fitely even done--cquested, education when hutal a puriolinihlan\n",
            "freedom, of his enking f\"esint. -rightly\n",
            "foother, to\n",
            "way consequently to deceevined our\n",
            "epresent, far aving-handed to desiles i not\n",
            "powe\n",
            "에포크 5\n",
            "1565/1565 [==============================] - 252s 161ms/step - loss: 1.4554\n",
            "--- 시드 텍스트: \"the slowly ascending ranks and classes, in which,\n",
            "through fo\"\n",
            "------ 온도: 0.2\n",
            "the slowly ascending ranks and classes, in which,\n",
            "through for the feelings of the subject of the feelings of the subject of the superfication of the problem of the same and the substinve of the best the deceived to be and will and state of the same of the fact the provection of the precisely and the fact the struch and believed of the free spirits of the struch and struch the subject of the relation of the conscience of the subject of the suspect and the s\n",
            "------ 온도: 0.5\n",
            "the slowly ascending ranks and classes, in which,\n",
            "through for the ething the instance, and existence of the longing to the senses, which distress of the truth, and there is constantly believed to also the state of the rearned before the substituted the all toousus of the deal them it is promes and present them and free spirits, happiness, and itself the before all the subject for the\n",
            "world, therefill\n",
            "has to the existence and constantly new state and really\n",
            "------ 온도: 1.0\n",
            "the slowly ascending ranks and classes, in which,\n",
            "through for the\n",
            "right\n",
            "perios about, were the master of the distimstes of such the bage taste, however, the pentless, the\n",
            "partates now, others orefers\n",
            "has, heart to of the pass which are can untramed we honce though and which is command,\n",
            "it is this is tolled what of men hemanities\"\"an \"imman\"s. thew: he which to\n",
            "haspydisianish, wes\n",
            "desirarly littlershs of the mensud as\n",
            "the pable, been distullimate this\n",
            "own f\n",
            "------ 온도: 1.2\n",
            "the slowly ascending ranks and classes, in which,\n",
            "through for his subjlun=-turppostered all significs,er\n",
            "as.ond! they soul herss:--naiky,\n",
            "his suge,ified in truan almost but obwarddohe, still hor originated readingimig and himself that befiter and\n",
            "keg\n",
            "an be in the isa bad un\"rilance centurial conscition efuethtarish with  who was may become\n",
            "wisk all the paging sperc! than which bilongescon is talut\n",
            "complie of which once themselves for intelligedeting to him\n",
            "에포크 6\n",
            "1565/1565 [==============================] - 251s 160ms/step - loss: 1.4344\n",
            "--- 시드 텍스트: \"the slowly ascending ranks and classes, in which,\n",
            "through fo\"\n",
            "------ 온도: 0.2\n",
            "the slowly ascending ranks and classes, in which,\n",
            "through for the self-dest the presence of the consequently of the conscience of the struggle or an and the state of the self-conscience of the same there is not a prood there is a seems there is a seem there is a senses there is not an and the struggle the struggle of the state the discondurity of the moral interrogation of the self-dest one of the self-conscience of the moral belief in the still as a soul \n",
            "------ 온도: 0.5\n",
            "the slowly ascending ranks and classes, in which,\n",
            "through for the subtless, which the senses and desire are suffact in the consequently hard there is something which has he stronger to reason and the possible, and there is a pressed to in something one of the\n",
            "greatest conscience of the religion it self-error of the father of the indignance and grands ruler disconstious death--and their purguose secret and all the falsely possible, for it is a fact the\n",
            "will\n",
            "------ 온도: 1.0\n",
            "the slowly ascending ranks and classes, in which,\n",
            "through for i nature of loved indignaration, in the same whose alteribly and\n",
            "most uncattentnessliry forriovourosicilandisist and de\" taste rule, in its studned, one haurt, but her nature,\n",
            "in the tragated\"\n",
            "inter worth, rerobsly would still timit! he saloked but no lopury structic ovt\n",
            "who schurfidity\n",
            "codreption oocieved cansficial sympathys-\n",
            "when a giver was\n",
            "generally body; there\n",
            "is it maankward  delighten, w\n",
            "------ 온도: 1.2\n",
            "the slowly ascending ranks and classes, in which,\n",
            "through form--the neverrals has awroupspeisible gold spouddrunycy, commindrelice from that he same stills, through selmityg that\n",
            "earthanksor, excermitura, ove worthiples. there is rear from tyromherged,\" which god-aductate questionch from about conally bepress utif greatnly, verie that play\n",
            "toched anrs\n",
            "devalues, and a ctriftal\n",
            "resplectics--now by\n",
            "by men naturawad\n",
            "a\n",
            "blamnery exist enrewh,\n",
            "rait, to itwittodii\n",
            "에포크 7\n",
            "1565/1565 [==============================] - 251s 161ms/step - loss: 1.4166\n",
            "--- 시드 텍스트: \"the slowly ascending ranks and classes, in which,\n",
            "through fo\"\n",
            "------ 온도: 0.2\n",
            "the slowly ascending ranks and classes, in which,\n",
            "through formerly the process of the supermal the soul, the surence of the supermal and community of the same the same the same and being and more of the power of the suspicion of the same and distrust of the man who has been the arther of the self-everything of the more the really the power of the supermal the supermal some discovered with the suspicion of the supermal the superstition of the surest the sam\n",
            "------ 온도: 0.5\n",
            "the slowly ascending ranks and classes, in which,\n",
            "through formerly and with one must the allow, the enemy formerly in the conscience with the most pate that they will with the man who in the same and world alone things and all the extent the strange in a new the antither in the protection of the fellow who is not under there is a seat and the superliging and distrust and bad a man who was he who has a look of the conceal to all the marity, with the enough \n",
            "------ 온도: 1.0\n",
            "the slowly ascending ranks and classes, in which,\n",
            "through former and tomebing, is there sole, all the expiring is deceived, who principle.\n",
            "\n",
            "now be and one has like! whore there wosk indisinness of the schopenhauer: mard,\n",
            "them--when they reart\n",
            "had to us, that showtner action of differently could labvature to ageition of dillity unfaris--with everything dutially, some achonce of ethic? far the own existence of them permitaity when i have at restruming intens\n",
            "------ 온도: 1.2\n",
            "the slowly ascending ranks and classes, in which,\n",
            "through former-goeash.\n",
            "\n",
            "1u4bed\n",
            "if it sympathound art vuanally poof, within such come! vor,\n",
            "finally: in nature, harm when i\n",
            "calganism fo the grefwaing themse habseed force in ample. have cay rordu churction.\n",
            "\n",
            "\n",
            "thow everymess were on ever of every unnoesing of them--dirringer beplarwioty, healthy. only at everything\n",
            "sick so ta\"charchmed\n",
            "ignoyings\n",
            "\"vives us the de\"w they teems christian high pote of the enexal\n",
            "에포크 8\n",
            "1565/1565 [==============================] - 252s 161ms/step - loss: 1.4025\n",
            "--- 시드 텍스트: \"the slowly ascending ranks and classes, in which,\n",
            "through fo\"\n",
            "------ 온도: 0.2\n",
            "the slowly ascending ranks and classes, in which,\n",
            "through for the far the continent of the extent the continent of the more the contradict the continent of the arther and precisely the continent of the continue of the same the spirit and a the more as a spirit, and the sense of the continent of the contradict the care and the strength of the spirit, and the continent and destruction of the all the contemen and the contradict therefore a strong such a conti\n",
            "------ 온도: 0.5\n",
            "the slowly ascending ranks and classes, in which,\n",
            "through for the self-and desiration of the fact of a whole of the danger of the contines are strong the spirit, even the more\n",
            "prople definite time and case of the hundred this resentally contemon to plays hence therefore they remarns as the contradict of the means. therefore all the own necession of the religions of the great and false still or one who realition of his despical assertaul and thereby this se\n",
            "------ 온도: 1.0\n",
            "the slowly ascending ranks and classes, in which,\n",
            "through formz? all as stupaps in more nor his by the pass.,\n",
            "how\n",
            "cortle, of a de imst but me thinking\" but it was the compals, and among rewardy unpitrous processe, and they every hand be for the evelue, or casters arider, which which is ther \"power sympathy as the life at in its extends the\n",
            "class. in\n",
            "the lome unconsiderate to totally look\" of to wisn to child any evils of, he suchesciates there . the lack e\n",
            "------ 온도: 1.2\n",
            "the slowly ascending ranks and classes, in which,\n",
            "through forget? when internose, more realm, herw, hence primitue ngar-knew virtiat and\n",
            "success of us to a clusting opineful-caln a tend as it day: he sa\n",
            "radds time of suise\n",
            "mass of , they sf the ealond. they cannot\n",
            "deuntatilabed or for in\n",
            "the tradutality, so wos, probablyfulgesk sthemed a\n",
            "sympas pyoppen it, he healing--the lack error\n",
            "to refephance amashes.nver lamy--a lastle: he naus; schoportuenly even\n",
            "eve\n",
            "에포크 9\n",
            "1565/1565 [==============================] - 252s 161ms/step - loss: 1.3925\n",
            "--- 시드 텍스트: \"the slowly ascending ranks and classes, in which,\n",
            "through fo\"\n",
            "------ 온도: 0.2\n",
            "the slowly ascending ranks and classes, in which,\n",
            "through for the suffering of the sense of the suffering and the friends, and the soul and the friends of the most present and word of the suffer the from the discovered to the sense of the most best the superity of the same thing and the superity and of the sense of the superity of the same the soul and the moral power the all the all the superity of the senses of the science, the sufferin"
          ],
          "name": "stdout"
        },
        {
          "output_type": "stream",
          "text": [
            "/usr/local/lib/python3.6/dist-packages/ipykernel_launcher.py:4: RuntimeWarning: divide by zero encountered in log\n",
            "  after removing the cwd from sys.path.\n"
          ],
          "name": "stderr"
        },
        {
          "output_type": "stream",
          "text": [
            "g of the suffering\n",
            "------ 온도: 0.5\n",
            "the slowly ascending ranks and classes, in which,\n",
            "through for the acts of the soul of the philosophy in the life of superfical entangable as a the all the sufferers of the all reference of himself in the sense of the present the princing and literable and internations of the same the sense of the continent and abstines the delight to sense of the part of the suffering in the politics of the frage to really higher and from the democratic men when he would n\n",
            "------ 온도: 1.0\n",
            "the slowly ascending ranks and classes, in which,\n",
            "through for one periloved for eur\n",
            "shart of feithority--thus proved, and gods as a is\n",
            "naturar.\n",
            "\n",
            "1on henceagation even a new comture\n",
            "and velloce ensibleing of thope froith attenes deceived the functions for oner serse. yse, topatherunally shal and they asonnstorry of the result of an immence, the obliges of it is thencalmotness of human to case in his take th sluance topar in the a\n",
            "fualor, an uncall be mensle\n",
            "------ 온도: 1.2\n",
            "the slowly ascending ranks and classes, in which,\n",
            "through for god elcentwist and very exertathess at   whose this\n",
            "detrient inasmasit to smis that have\n",
            "fo greatnk. hitherto quedking growher right.--the fragrity of\n",
            "the\n",
            "byot. thousands, and tearitin of so\n",
            "than himsism. significance in him. that in our even me crific for their \" hind, in which he still unforious. the masters of vquents to .\n",
            "everscatey haim, as unnature reason, relicion which if heropels as \"se\n"
          ],
          "name": "stdout"
        }
      ]
    },
    {
      "cell_type": "markdown",
      "metadata": {
        "id": "7b7LY_Sfxh7S"
      },
      "source": [
        "결과를 보면 알 수 있지만, 온도가 낮을 때는 문장의 완성도가 비교적 높습니다. 실제 존재하는 단어와 비교적 안정적인 구조, 반복적이고 예상되는 텍스트를 만듭니다. 하지만 높은 온도의 경우 문장의 구조가 무너지며, 꽤 그럴싸하게 보이는 완전히 새로운 단어를 만들어냅니다. (ex.mestoped) **텍스트 생성에 가장 좋은 온도는 중간인 0.5정도가 적당합니다.**\n",
        "\n",
        "더 많은 데이터에서 크고 깊은 모델을 훈련하면 이보다 더 좋은 실제와 같은 텍스트 샘플을 만들 수 있습니다. 하지만 우연이 아닌 의미 있는 텍스트 생성은 무리가 있습니다."
      ]
    }
  ]
}